{
 "cells": [
  {
   "cell_type": "markdown",
   "source": [
    "#### Import packages\n"
   ],
   "metadata": {
    "collapsed": false,
    "pycharm": {
     "name": "#%% md\n"
    }
   }
  },
  {
   "cell_type": "code",
   "execution_count": 1,
   "metadata": {
    "collapsed": true,
    "pycharm": {
     "name": "#%%\n"
    }
   },
   "outputs": [],
   "source": [
    "import joblib\n",
    "import numpy as np\n",
    "import seaborn as sns\n",
    "from Bio import SeqIO\n",
    "import matplotlib.pyplot as plt\n",
    "%matplotlib inline\n",
    "import pandas as pd\n",
    "pd.set_option('display.max_columns', None)  # show all columns\n",
    "\n",
    "from sklearn.preprocessing import LabelBinarizer, MultiLabelBinarizer, LabelEncoder, OneHotEncoder, StandardScaler\n",
    "from sklearn.model_selection import train_test_split, StratifiedKFold, GridSearchCV\n",
    "from sklearn.neural_network import MLPClassifier\n",
    "from sklearn.metrics import confusion_matrix, plot_confusion_matrix, classification_report, roc_auc_score\n",
    "from sklearn.dummy import DummyClassifier\n",
    "from sklearn.utils import resample, shuffle\n",
    "from sklearn.ensemble import RandomForestClassifier\n",
    "from sklearn.svm import SVC\n",
    "from sklearn.decomposition import PCA"
   ]
  },
  {
   "cell_type": "markdown",
   "source": [
    "#### Load data\n",
    "Define functions used for loading data.\n"
   ],
   "metadata": {
    "collapsed": false
   }
  },
  {
   "cell_type": "code",
   "execution_count": 2,
   "outputs": [
    {
     "data": {
      "text/plain": "\"\\ndef read_struc_file(df_label, struc_file_path):\\n    struc_dict = SeqIO.to_dict(SeqIO.parse(struc_file_path, 'fasta'))\\n\\n    chain_id_2_struc = []\\n\\n    # iterate over rows in df_label\\n    for row in df_label.itertuples(index=False, name='Pandas'):\\n        chain_id = row.chain_id\\n        #class_label = row.class_label\\n        domain_position = row.domain_position.split('-')  # example domain_position: 2-42 (should be 1-based)\\n        struc_start = int(domain_position[0]) - 1  # 1-based --> 0-based\\n        struc_end = int(domain_position[1]) - 1  # 1-based --> 0-based\\n        if chain_id in struc_dict:\\n            if struc_start >= 0:\\n                struc = struc_dict[chain_id][struc_start:struc_end+1]  # end-excluded\\n            else:  # seq_start < 0\\n                struc = struc_dict[chain_id][struc_start:] + struc_dict[chain_id][:struc_end+1]  # 'ABCDEF' & [-2,3] = 'EF'+ 'ABCD' = [-2:] + [:3]\\n            chain_id_2_struc.append([chain_id,domain_position, struc])#, class_label])\\n\\n    df_struc = pd.DataFrame(chain_id_2_struc, columns=['chain_id', 'domain_position', 'structure'])#, 'class_label'])\\n    \\n    return df_struc\\n\\n\\ndef read_dis_file(df_label, dis_file_path):\\n    dis_dict = SeqIO.to_dict(SeqIO.parse(dis_file_path, 'fasta'))\\n\\n    chain_id_2_dis = []\\n\\n    # iterate over rows in df_label\\n    for row in df_label.itertuples(index=False, name='Pandas'):\\n        chain_id = row.chain_id\\n        #class_label = row.class_label\\n        domain_position = row.domain_position.split('-')  # example domain_position: 2-42 (should be 1-based)\\n        dis_start = int(domain_position[0]) - 1  # 1-based --> 0-based\\n        dis_end = int(domain_position[1]) - 1  # 1-based --> 0-based\\n        if chain_id in dis_dict:\\n            if dis_start >= 0:\\n                dis = dis_dict[chain_id][dis_start:dis_end+1]  # end-excluded\\n            else:  # seq_start < 0\\n                dis = dis_dict[chain_id][dis_start:] + dis_dict[chain_id][:dis_end+1]  # 'ABCDEF' & [-2,3] = 'EF'+ 'ABCD' = [-2:] + [:3]\\n            chain_id_2_dis.append([chain_id, domain_position, dis])#, class_label])\\n\\n    df_dis = pd.DataFrame(chain_id_2_dis, columns=['chain_id', 'domain_position', 'structure'])#, 'class_label'])\\n    \\n    return df_dis\\n\""
     },
     "execution_count": 2,
     "metadata": {},
     "output_type": "execute_result"
    }
   ],
   "source": [
    "def read_process_label_file(label_file_path):\n",
    "    label_table = pd.read_csv(label_file_path, sep='\\t', usecols=['pdb_id', 'cath'])[['pdb_id', 'cath']]  # ensure columns in ['pdb_id', 'cath'] order\n",
    "\n",
    "    chain_id_2_domain_position_2_class_label = []\n",
    "\n",
    "    # iterate over rows in label_table\n",
    "    for row in label_table.itertuples(index=False, name='Pandas'):\n",
    "        pdb_id = row.pdb_id\n",
    "        cath_content = row.cath\n",
    "        cath_content = cath_content.split('),(')\n",
    "        cath_content = [tuple.strip(')(') for tuple in cath_content]  # remove specific leading and trailing characters '(' and ')' in the string\n",
    "        for tuple in cath_content:\n",
    "            tuple_content = tuple.split(',')  # tuple example: (2-42:A,420-555:A,2.105.10.10)\n",
    "            cath_label = tuple_content.pop(-1)  # e.g: 2.105.10.10 (class.architecture.topology.homologous_superfamiliy)\n",
    "            class_label = int(cath_label[:1])  # extract only the class label\n",
    "            #class_arch_label = [int(cath_label.split('.')[0]), int(cath_label.split('.')[1])]  # label for class & architecture prediction\n",
    "            for domain_info in tuple_content:\n",
    "                chain_name = domain_info.split(':')[1]  # domain_info example: 2-42:A\n",
    "                chain_id = pdb_id +':' + chain_name\n",
    "                domain_position = domain_info.split(':')[0]\n",
    "                chain_id_2_domain_position_2_class_label.append([chain_id, domain_position, class_label])  # add parse result as list to list\n",
    "\n",
    "    # convert result list to DataFrame\n",
    "    df_label = pd.DataFrame(chain_id_2_domain_position_2_class_label, columns=['chain_id', 'domain_position', 'class_label'])\n",
    "\n",
    "    return df_label\n",
    "\n",
    "\n",
    "def read_combine_seq_file(df_label, seq_file_path):\n",
    "    seq_dict = SeqIO.to_dict(SeqIO.parse(seq_file_path, 'fasta'))\n",
    "\n",
    "    chain_id_2_seq_2_class_label = []\n",
    "    aas = []\n",
    "\n",
    "    # iterate over rows in df_label\n",
    "    for row in df_label.itertuples(index=False, name='Pandas'):\n",
    "        chain_id = row.chain_id\n",
    "        class_label = row.class_label\n",
    "\n",
    "        # parse domain position info\n",
    "        if row.domain_position.startswith('-'):\n",
    "            domain_position = [row.domain_position[:2], row.domain_position[3:]]  # example domain_position: -3-64 (first-M-based)\n",
    "        else:\n",
    "            domain_position = row.domain_position.split('-')  # example domain_position: 2-42 (first-M-based)\n",
    "        try:\n",
    "            seq_start = int(domain_position[0])\n",
    "            seq_end = int(domain_position[1])\n",
    "        except:\n",
    "            continue  # there are positions consist of number and letter, e.g. 1S-104S, ignore them\n",
    "\n",
    "        # go through all sequences, get desired segments\n",
    "        if chain_id in seq_dict:\n",
    "            seq = str(seq_dict[chain_id].seq)\n",
    "            if 'M' in seq:\n",
    "                seq_first_M = seq.index('M')  # return the position of the first occurrence of 'M' in seq --> this posiotion is assigned as position 1 in PDB file\n",
    "                seq_start = seq_start + seq_first_M - 1\n",
    "                seq_end = seq_end + seq_first_M - 1\n",
    "                seq = seq[seq_start:seq_end + 1]  # end-excluded\n",
    "            else:  # 'M' not in seq\n",
    "                #print('no M in this sequence')  # test\n",
    "                seq_start = seq_start - 1  # 1-based\n",
    "                seq_end = seq_end - 1  # 1-based\n",
    "                seq = seq[seq_start:seq_end + 1]  # end-excluded\n",
    "            if seq == '':\n",
    "                #print('this seq is empty')  # test\n",
    "                continue\n",
    "            else:  # seq is not empty\n",
    "                for aa in seq:\n",
    "                    if aa not in aas:\n",
    "                        aas.append(aa)\n",
    "            chain_id_2_seq_2_class_label.append([chain_id, domain_position, seq, class_label])\n",
    "\n",
    "    df_seq_label = pd.DataFrame(chain_id_2_seq_2_class_label, columns=['chain_id', 'domain_position', 'sequence', 'class_label'])\n",
    "\n",
    "    return df_seq_label, aas\n",
    "\n",
    "'''\n",
    "def read_struc_file(df_label, struc_file_path):\n",
    "    struc_dict = SeqIO.to_dict(SeqIO.parse(struc_file_path, 'fasta'))\n",
    "\n",
    "    chain_id_2_struc = []\n",
    "\n",
    "    # iterate over rows in df_label\n",
    "    for row in df_label.itertuples(index=False, name='Pandas'):\n",
    "        chain_id = row.chain_id\n",
    "        #class_label = row.class_label\n",
    "        domain_position = row.domain_position.split('-')  # example domain_position: 2-42 (should be 1-based)\n",
    "        struc_start = int(domain_position[0]) - 1  # 1-based --> 0-based\n",
    "        struc_end = int(domain_position[1]) - 1  # 1-based --> 0-based\n",
    "        if chain_id in struc_dict:\n",
    "            if struc_start >= 0:\n",
    "                struc = struc_dict[chain_id][struc_start:struc_end+1]  # end-excluded\n",
    "            else:  # seq_start < 0\n",
    "                struc = struc_dict[chain_id][struc_start:] + struc_dict[chain_id][:struc_end+1]  # 'ABCDEF' & [-2,3] = 'EF'+ 'ABCD' = [-2:] + [:3]\n",
    "            chain_id_2_struc.append([chain_id,domain_position, struc])#, class_label])\n",
    "\n",
    "    df_struc = pd.DataFrame(chain_id_2_struc, columns=['chain_id', 'domain_position', 'structure'])#, 'class_label'])\n",
    "    \n",
    "    return df_struc\n",
    "\n",
    "\n",
    "def read_dis_file(df_label, dis_file_path):\n",
    "    dis_dict = SeqIO.to_dict(SeqIO.parse(dis_file_path, 'fasta'))\n",
    "\n",
    "    chain_id_2_dis = []\n",
    "\n",
    "    # iterate over rows in df_label\n",
    "    for row in df_label.itertuples(index=False, name='Pandas'):\n",
    "        chain_id = row.chain_id\n",
    "        #class_label = row.class_label\n",
    "        domain_position = row.domain_position.split('-')  # example domain_position: 2-42 (should be 1-based)\n",
    "        dis_start = int(domain_position[0]) - 1  # 1-based --> 0-based\n",
    "        dis_end = int(domain_position[1]) - 1  # 1-based --> 0-based\n",
    "        if chain_id in dis_dict:\n",
    "            if dis_start >= 0:\n",
    "                dis = dis_dict[chain_id][dis_start:dis_end+1]  # end-excluded\n",
    "            else:  # seq_start < 0\n",
    "                dis = dis_dict[chain_id][dis_start:] + dis_dict[chain_id][:dis_end+1]  # 'ABCDEF' & [-2,3] = 'EF'+ 'ABCD' = [-2:] + [:3]\n",
    "            chain_id_2_dis.append([chain_id, domain_position, dis])#, class_label])\n",
    "\n",
    "    df_dis = pd.DataFrame(chain_id_2_dis, columns=['chain_id', 'domain_position', 'structure'])#, 'class_label'])\n",
    "    \n",
    "    return df_dis\n",
    "'''"
   ],
   "metadata": {
    "collapsed": false,
    "pycharm": {
     "name": "#%%\n"
    }
   }
  },
  {
   "cell_type": "markdown",
   "source": [
    "Load data from dataset."
   ],
   "metadata": {
    "collapsed": false,
    "pycharm": {
     "name": "#%% md\n"
    }
   }
  },
  {
   "cell_type": "code",
   "execution_count": 3,
   "outputs": [
    {
     "data": {
      "text/plain": "\"\\ndf_seq_label_test = df_seq_label_test[~df_label_test.sequence == '']\\ndf_struc_test = read_struc_file(df_label_test, 'dataset/test_structure.fasta')\\ndf_dis_test = read_dis_file(df_label_test, 'dataset/test_pdb_disorder.fasta')\\n\\n# combine seq and struc\\ndf_seq_label_struc_test = pd.merge(df_seq_label_test, df_struc_test, how='inner', on=['chain_id', 'domain_position'])# combine seq and dis\\ndf_seq_label_dis_test = pd.merge(df_seq_label_test, df_dis_test, how='inner', on=['chain_id', 'domain_position'])\\n\\n# combine seq, struc and dis\\ndf_seq_label_struc_dis_test = pd.merge(df_seq_label_struc_test, df_dis_test, how='inner', on=['chain_id', 'domain_position'])\\n\""
     },
     "execution_count": 3,
     "metadata": {},
     "output_type": "execute_result"
    }
   ],
   "source": [
    "# prepare training data\n",
    "df_label_train = read_process_label_file('dataset/training.tsv')\n",
    "df_seq_label_train, aas = read_combine_seq_file(df_label_train, 'dataset/training_sequences.fasta')\n",
    "df_seq_label_train = df_seq_label_train[df_seq_label_train.class_label != 6]  # exclude class 6 due to rare occurrence\n",
    "df_seq_label_train.reset_index(drop=True, inplace=True)\n",
    "'''\n",
    "df_struc_train = read_struc_file(df_label_train, 'dataset/training_structure.fasta')\n",
    "df_dis_train = read_dis_file(df_label_train, 'dataset/training_disorder.fasta')\n",
    "\n",
    "# combine seq and struc\n",
    "df_seq_label_struc_train = pd.merge(df_seq_label_train, df_struc_train, how='inner', on=['chain_id', 'domain_position'])\n",
    "\n",
    "# combine seq and dis\n",
    "df_seq_label_dis_train = pd.merge(df_seq_label_train, df_dis_train, how='inner', on=['chain_id', 'domain_position'])\n",
    "\n",
    "# combine seq, struc and dis\n",
    "df_seq_label_struc_dis_train = pd.merge(df_seq_label_struc_train, df_dis_train, how='inner', on=['chain_id', 'domain_position'])\n",
    "'''\n",
    "\n",
    "# prepare test data\n",
    "df_label_test = read_process_label_file('dataset/test.tsv')\n",
    "df_seq_label_test, _ = read_combine_seq_file(df_label_test, 'dataset/test_sequences.fasta')\n",
    "df_seq_label_test = df_seq_label_test[df_seq_label_test.class_label != 6]  # exclude class 6 due to rare occurrence\n",
    "df_seq_label_test.reset_index(drop=True, inplace=True)\n",
    "'''\n",
    "df_seq_label_test = df_seq_label_test[~df_label_test.sequence == '']\n",
    "df_struc_test = read_struc_file(df_label_test, 'dataset/test_structure.fasta')\n",
    "df_dis_test = read_dis_file(df_label_test, 'dataset/test_pdb_disorder.fasta')\n",
    "\n",
    "# combine seq and struc\n",
    "df_seq_label_struc_test = pd.merge(df_seq_label_test, df_struc_test, how='inner', on=['chain_id', 'domain_position'])# combine seq and dis\n",
    "df_seq_label_dis_test = pd.merge(df_seq_label_test, df_dis_test, how='inner', on=['chain_id', 'domain_position'])\n",
    "\n",
    "# combine seq, struc and dis\n",
    "df_seq_label_struc_dis_test = pd.merge(df_seq_label_struc_test, df_dis_test, how='inner', on=['chain_id', 'domain_position'])\n",
    "'''"
   ],
   "metadata": {
    "collapsed": false,
    "pycharm": {
     "name": "#%%\n"
    }
   }
  },
  {
   "cell_type": "markdown",
   "source": [
    "Investigate the sequence length to determine an appropriate length to pad/truncate sequences later."
   ],
   "metadata": {
    "collapsed": false,
    "pycharm": {
     "name": "#%% md\n"
    }
   }
  },
  {
   "cell_type": "code",
   "execution_count": 6,
   "outputs": [
    {
     "name": "stderr",
     "output_type": "stream",
     "text": [
      "D:\\Software\\Anaconda\\envs\\CATHpre\\lib\\site-packages\\seaborn\\distributions.py:2619: FutureWarning: `distplot` is a deprecated function and will be removed in a future version. Please adapt your code to use either `displot` (a figure-level function with similar flexibility) or `histplot` (an axes-level function for histograms).\n",
      "  warnings.warn(msg, FutureWarning)\n",
      "D:\\Software\\Anaconda\\envs\\CATHpre\\lib\\site-packages\\seaborn\\distributions.py:2619: FutureWarning: `distplot` is a deprecated function and will be removed in a future version. Please adapt your code to use either `displot` (a figure-level function with similar flexibility) or `histplot` (an axes-level function for histograms).\n",
      "  warnings.warn(msg, FutureWarning)\n"
     ]
    },
    {
     "data": {
      "text/plain": "<Figure size 432x288 with 1 Axes>",
      "image/png": "[encoded data removed]"
     },
     "metadata": {
      "needs_background": "light"
     },
     "output_type": "display_data"
    }
   ],
   "source": [
    "# Length of sequence in train data.\n",
    "df_seq_label_train['seq_char_count']= df_seq_label_train['sequence'].apply(lambda x: len(x))\n",
    "df_seq_label_test['seq_char_count']= df_seq_label_test['sequence'].apply(lambda x: len(x))\n",
    "\n",
    "def plot_seq_count(df, data_name):\n",
    "  sns.distplot(df['seq_char_count'].values, label=data_name)\n",
    "  plt.title('Count of fragments with different length')#('Sequence char count')\n",
    "  plt.xlabel('Fragment length')\n",
    "  plt.ylabel('Count (density)')\n",
    "  plt.grid(True)\n",
    "  plt.legend()\n",
    "\n",
    "plot_seq_count(df_seq_label_train, 'train')\n",
    "plot_seq_count(df_seq_label_test, 'test')\n",
    "plt.show()"
   ],
   "metadata": {
    "collapsed": false,
    "pycharm": {
     "name": "#%%\n"
    }
   }
  },
  {
   "cell_type": "markdown",
   "source": [
    "Define X, y."
   ],
   "metadata": {
    "collapsed": false,
    "pycharm": {
     "name": "#%% md\n"
    }
   }
  },
  {
   "cell_type": "code",
   "execution_count": 4,
   "outputs": [],
   "source": [
    "# use df_seq_label\n",
    "X_train = df_seq_label_train['sequence']\n",
    "#print(np.sum(X_train.isna()))  # test  #0\n",
    "y_train = df_seq_label_train['class_label']\n",
    "\n",
    "X_test = df_seq_label_test['sequence']\n",
    "y_test = df_seq_label_test['class_label']"
   ],
   "metadata": {
    "collapsed": false,
    "pycharm": {
     "name": "#%%\n"
    }
   }
  },
  {
   "cell_type": "markdown",
   "source": [
    "#### Data preprocessing\n",
    "Transform X, y in numeric form.\n"
   ],
   "metadata": {
    "collapsed": false
   }
  },
  {
   "cell_type": "code",
   "execution_count": 5,
   "outputs": [
    {
     "data": {
      "text/plain": "'\\n# convert single integer to one-hot encoded array\\naa_int_2_one_hot_array = {}\\nfor aa_int in aas_2_int.values():\\n    one_hot_list = [0 for i in range(len(aas_2_int))]\\n    one_hot_list[aa_int] = 1\\n    aa_int_2_one_hot_array[aa_int] = np.array(one_hot_list)\\n\\ndef encode_int_seq_to_one_hot(series):\\n    encoded_int_seq_list = []\\n    for int_seq in series.values:\\n        encoded_int_seq = []\\n        for aa_int in int_seq:\\n            encoded_int_seq.append(aa_int_2_one_hot_array.get(aa_int))\\n        encoded_int_seq_list.append(np.array(encoded_int_seq))\\n    return pd.Series(encoded_int_seq_list)\\n\\nX_train = encode_int_seq_to_one_hot(X_train)  # shape=(7893, 200, 24)\\nX_test = encode_int_seq_to_one_hot(X_test)\\n'"
     },
     "execution_count": 5,
     "metadata": {},
     "output_type": "execute_result"
    }
   ],
   "source": [
    "'''\n",
    "# transform label\n",
    "lb = LabelBinarizer()\n",
    "y_train = lb.fit_transform(y_train)\n",
    "y_test = lb.transform(y_test)\n",
    "\n",
    "# muticlass prediction version\n",
    "mlb = MultiLabelBinarizer()\n",
    "y_train = mlb.fit_transform(y_train)\n",
    "y_test = mlb.transform(y_test)\n",
    "'''\n",
    "\n",
    "# transform feature(s): sequence\n",
    "\n",
    "# concatenate data back together\n",
    "train_data = pd.concat([X_train, y_train], axis=1)\n",
    "test_data = pd.concat([X_test, y_test], axis=1)\n",
    "\n",
    "# pad/truncate sequences to a fixed length\n",
    "fixed_length = 200\n",
    "def pad_or_truncate_seq(seq):\n",
    "    if len(seq) > fixed_length:\n",
    "        seq = seq[:fixed_length]  # seq to long, truncate to fixed_length\n",
    "    if len(seq) <= fixed_length:\n",
    "        seq = seq.ljust(fixed_length, '-')  # seq to short, pad with '-' up to fixed_length\n",
    "    return seq\n",
    "\n",
    "train_data['sequence'] = train_data['sequence'].apply(lambda seq: pad_or_truncate_seq(seq))\n",
    "#print(np.sum(X_train.isna()))  # test  #0\n",
    "test_data['sequence'] = test_data['sequence'].apply(lambda seq: pad_or_truncate_seq(seq))\n",
    "\n",
    "# separate sequence string in single letters\n",
    "train_data['sequence'] = train_data['sequence'].apply(lambda seq: list(seq))  # split seq string into a list of characters\n",
    "#print(np.sum(X_train.isna()))  # test  #0\n",
    "test_data['sequence'] = test_data['sequence'].apply(lambda seq: list(seq))\n",
    "\n",
    "# convert single letter to single interger\n",
    "aas_2_int = {'-':0}\n",
    "for index, aa in enumerate(aas):\n",
    "    aas_2_int[aa] = index + 1\n",
    "'''\n",
    "def encode_seq_to_int(series):\n",
    "    # encode amino acid sequence to integer values. All AAs occurred in data are taken into consideration. All other letters (inclusive '-') are categorized as 0.\n",
    "    encoded_seq_list = []\n",
    "    for seq in series.values:\n",
    "        encoded_seq = []\n",
    "        for aa in seq:\n",
    "            encoded_seq.append(aas_2_int.get(aa, 0))\n",
    "        encoded_seq_list.append(np.array(encoded_seq))\n",
    "    return pd.Series(encoded_seq_list)\n",
    "    #return pd.DataFrame(encoded_seq_list)\n",
    "\n",
    "train_data['sequence'] = encode_seq_to_int(train_data['sequence'])\n",
    "#print(np.sum(X_train.isna()))  # test  #0\n",
    "test_data['sequence'] = encode_seq_to_int(test_data['sequence'])\n",
    "'''\n",
    "def encode_seq_to_int(seq):\n",
    "    # encode amino acid sequence to integer values. All AAs occurred in data are taken into consideration. All other letters (inclusive '-') are categorized as 0.\n",
    "    encoded_seq = []\n",
    "    for aa in seq:\n",
    "        encoded_seq.append(aas_2_int.get(aa, 0))\n",
    "    return np.array(encoded_seq)\n",
    "\n",
    "train_data['sequence'] = train_data['sequence'].apply(lambda seq: encode_seq_to_int(seq))\n",
    "test_data['sequence'] = test_data['sequence'].apply(lambda seq: encode_seq_to_int(seq))\n",
    "\n",
    "# separate X, y\n",
    "X_train = train_data['sequence']\n",
    "X_train = pd.DataFrame(X_train.to_list())\n",
    "y_train = train_data['class_label']\n",
    "\n",
    "X_test = test_data['sequence']\n",
    "X_test = pd.DataFrame(X_test.to_list())\n",
    "y_test = test_data['class_label']\n",
    "\n",
    "'''\n",
    "# convert single integer to one-hot encoded array\n",
    "aa_int_2_one_hot_array = {}\n",
    "for aa_int in aas_2_int.values():\n",
    "    one_hot_list = [0 for i in range(len(aas_2_int))]\n",
    "    one_hot_list[aa_int] = 1\n",
    "    aa_int_2_one_hot_array[aa_int] = np.array(one_hot_list)\n",
    "\n",
    "def encode_int_seq_to_one_hot(series):\n",
    "    encoded_int_seq_list = []\n",
    "    for int_seq in series.values:\n",
    "        encoded_int_seq = []\n",
    "        for aa_int in int_seq:\n",
    "            encoded_int_seq.append(aa_int_2_one_hot_array.get(aa_int))\n",
    "        encoded_int_seq_list.append(np.array(encoded_int_seq))\n",
    "    return pd.Series(encoded_int_seq_list)\n",
    "\n",
    "X_train = encode_int_seq_to_one_hot(X_train)  # shape=(7893, 200, 24)\n",
    "X_test = encode_int_seq_to_one_hot(X_test)\n",
    "'''"
   ],
   "metadata": {
    "collapsed": false,
    "pycharm": {
     "name": "#%%\n"
    }
   }
  },
  {
   "cell_type": "markdown",
   "source": [
    "Perform data standardization and Principal Component Analysis. (Note: Using the stats of training set to standardize testing set, same procedure for PCA.)"
   ],
   "metadata": {
    "collapsed": false,
    "pycharm": {
     "name": "#%% md\n"
    }
   }
  },
  {
   "cell_type": "code",
   "execution_count": 6,
   "outputs": [
    {
     "name": "stdout",
     "output_type": "stream",
     "text": [
      "PCA: n_components_=192\n",
      "\n"
     ]
    }
   ],
   "source": [
    "# z-score normalization\n",
    "scaler = StandardScaler()\n",
    "X_train = pd.DataFrame(scaler.fit_transform(X_train))\n",
    "X_test = pd.DataFrame(scaler.transform(X_test))\n",
    "\n",
    "# principal component analysis, explained variance 99%)\n",
    "pca = PCA(n_components=0.99, random_state=0)\n",
    "X_train = pd.DataFrame(pca.fit_transform(X_train))\n",
    "X_test = pd.DataFrame(pca.transform(X_test))\n",
    "print(f'PCA: n_components_={pca.n_components_}\\n')"
   ],
   "metadata": {
    "collapsed": false,
    "pycharm": {
     "name": "#%%\n"
    }
   }
  },
  {
   "cell_type": "markdown",
   "source": [
    "Handle data imbalance using over-/undersampling only on training dataset. Upsampling the minority class."
   ],
   "metadata": {
    "collapsed": false
   }
  },
  {
   "cell_type": "code",
   "execution_count": 7,
   "outputs": [
    {
     "name": "stdout",
     "output_type": "stream",
     "text": [
      "3    3944\n",
      "1    2488\n",
      "2    1307\n",
      "4     154\n",
      "Name: class_label, dtype: int64\n"
     ]
    },
    {
     "data": {
      "text/plain": "<Figure size 432x288 with 1 Axes>",
      "image/png": "[encoded data removed]"
     },
     "metadata": {
      "needs_background": "light"
     },
     "output_type": "display_data"
    },
    {
     "name": "stdout",
     "output_type": "stream",
     "text": [
      "4    3944\n",
      "3    3944\n",
      "2    3944\n",
      "1    3944\n",
      "Name: class_label, dtype: int64\n"
     ]
    },
    {
     "data": {
      "text/plain": "<Figure size 432x288 with 1 Axes>",
      "image/png": "[encoded data removed]"
     },
     "metadata": {
      "needs_background": "light"
     },
     "output_type": "display_data"
    }
   ],
   "source": [
    "# concatenate training data back together\n",
    "X = pd.concat([X_train, y_train], axis=1)\n",
    "#print(np.sum(X.isna()))  # test  #0\n",
    "\n",
    "# determine the majority class and the number of samples in this class\n",
    "print(X['class_label'].value_counts())\n",
    "X['class_label'].value_counts(sort=True).plot.bar()\n",
    "plt.show()\n",
    "\n",
    "# separate different classes\n",
    "X_1 = X[X.class_label == 1]\n",
    "X_2 = X[X.class_label == 2]\n",
    "X_3 = X[X.class_label == 3]\n",
    "X_4 = X[X.class_label == 4]\n",
    "\n",
    "# upsample other 3 classes to the majority class\n",
    "X_1_up = resample(X_1, replace=True, n_samples=3944, random_state=0)\n",
    "#X_1_up = X_1_up.fillna(method='ffill', axis=0)  # fill NaN gaps forwardly (use last observation)\n",
    "#X_1_up = X_1_up.dropna()\n",
    "X_2_up = resample(X_2, replace=True, n_samples=3944, random_state=0)\n",
    "#X_2_up = X_2_up.fillna(method='ffill', axis=0)\n",
    "#X_2_up = X_2_up.dropna()\n",
    "X_4_up = resample(X_4, replace=True, n_samples=3944, random_state=0)\n",
    "#X_4_up = X_4_up.fillna(method='ffill', axis=0)\n",
    "#X_4_up = X_4_up.dropna()\n",
    "\n",
    "X_up = pd.concat([X_1_up, X_2_up, X_3, X_4_up], axis=0)\n",
    "\n",
    "print(X_up['class_label'].value_counts())\n",
    "X_up['class_label'].value_counts().plot(kind='bar')\n",
    "plt.show()\n",
    "\n",
    "# shuffle rows in X_up and reset index afterwords\n",
    "X_up = shuffle(X_up, random_state=0)\n",
    "X_up = X_up.reset_index(drop=True)\n",
    "\n",
    "# split X_up in train and test set\n",
    "X_train_up = X_up.drop('class_label', axis=1)\n",
    "y_train_up = X_up['class_label']"
   ],
   "metadata": {
    "collapsed": false,
    "pycharm": {
     "name": "#%%\n"
    }
   }
  },
  {
   "cell_type": "markdown",
   "source": [
    "Downsapling the majority classes."
   ],
   "metadata": {
    "collapsed": false,
    "pycharm": {
     "name": "#%% md\n"
    }
   }
  },
  {
   "cell_type": "code",
   "execution_count": 10,
   "outputs": [
    {
     "name": "stdout",
     "output_type": "stream",
     "text": [
      "4    154\n",
      "3    154\n",
      "2    154\n",
      "1    154\n",
      "Name: class_label, dtype: int64\n"
     ]
    },
    {
     "data": {
      "text/plain": "<Figure size 432x288 with 1 Axes>",
      "image/png": "[encoded data removed]"
     },
     "metadata": {
      "needs_background": "light"
     },
     "output_type": "display_data"
    }
   ],
   "source": [
    "# downsample other 3 classes to the minority class,\n",
    "X_1_down = resample(X_1, replace=False, n_samples=154, random_state=0)\n",
    "X_2_down = resample(X_2, replace=False, n_samples=154, random_state=0)\n",
    "X_3_down = resample(X_3, replace=False, n_samples=154, random_state=0)\n",
    "\n",
    "X_down = pd.concat([X_1_down, X_2_down, X_3_down, X_4], axis=0)\n",
    "\n",
    "print(X_down['class_label'].value_counts())\n",
    "X_down['class_label'].value_counts().plot(kind='bar')\n",
    "plt.show()\n",
    "\n",
    "# shuffle rows in X_up and reset index afterwords\n",
    "X_down = shuffle(X_down, random_state=0)\n",
    "X_down = X_down.reset_index(drop=True)\n",
    "\n",
    "# split X_up in train and test set\n",
    "X_train_down = X_down.drop('class_label', axis=1)\n",
    "y_train_down = X_down['class_label']"
   ],
   "metadata": {
    "collapsed": false,
    "pycharm": {
     "name": "#%%\n"
    }
   }
  },
  {
   "cell_type": "markdown",
   "source": [
    "#### Baseline models\n",
    "Build baseline models using Zero Rule, stratified and random algorithm."
   ],
   "metadata": {
    "collapsed": false
   }
  },
  {
   "cell_type": "code",
   "execution_count": 8,
   "outputs": [
    {
     "name": "stdout",
     "output_type": "stream",
     "text": [
      "--------------zeroR---------------\n",
      "Accuracy score of baseline_zeroR model: 0.48623853211009177\n",
      "AUC score: 0.5\n",
      "Accuracy score of baseline_zeroR model trained on upsampled data: 0.1811926605504587\n",
      "AUC score: 0.5\n"
     ]
    },
    {
     "data": {
      "text/plain": "<Figure size 432x288 with 1 Axes>",
      "image/png": "[encoded data removed]"
     },
     "metadata": {
      "needs_background": "light"
     },
     "output_type": "display_data"
    }
   ],
   "source": [
    "# zero rule algorithm for classification: predict the class value that is most common in the training dataset\n",
    "'''\n",
    "def zero_rule_classifier(y_train, X_test):\n",
    "    train_labels = y_train.tolist()\n",
    "    test_prediction = max(set(train_labels), key=train_labels.count)\n",
    "    test_results = [test_prediction for i in range(len(X_test))]\n",
    "    return test_results\n",
    "\n",
    "zero_rule_pred = zero_rule_classifier(y_train, X_test)\n",
    "'''\n",
    "print('--------------zeroR---------------')\n",
    "baseline_zeroR = DummyClassifier(strategy=\"most_frequent\")\n",
    "baseline_zeroR.fit(X_train, y_train)\n",
    "#print(baseline_zeroR.predict(X_test))  # test\n",
    "zeroR_acc_score = baseline_zeroR.score(X_test, y_test)  # 0.48\n",
    "print(f'Accuracy score of baseline_zeroR model: {zeroR_acc_score}')\n",
    "#print(classification_report(y_test, baseline_zeroR.predict(y_test)))\n",
    "zeroR_auc_score = roc_auc_score(y_test, baseline_zeroR.predict_proba(X_test), average='macro', multi_class='ovo')#average='weighted', because of imbalanced data\n",
    "print(f'AUC score: {zeroR_auc_score}')\n",
    "\n",
    "# using upsampled data\n",
    "baseline_zeroR.fit(X_train_up, y_train_up)\n",
    "#print(baseline_zeroR.predict(X_test))  # test\n",
    "zeroR_acc_score_up = baseline_zeroR.score(X_test, y_test)  # 0.18\n",
    "print(f'Accuracy score of baseline_zeroR model trained on upsampled data: {zeroR_acc_score_up}')\n",
    "#print(classification_report(y_test, baseline_zeroR.predict(y_test)))\n",
    "zeroR_auc_score_up = roc_auc_score(y_test, baseline_zeroR.predict_proba(X_test), average='macro', multi_class='ovo')\n",
    "print(f'AUC score: {zeroR_auc_score_up}')\n",
    "'''\n",
    "# using downsampled data\n",
    "baseline_zeroR.fit(X_train_down, y_train_down)\n",
    "zeroR_acc_score_down = baseline_zeroR.score(X_test, y_test)  #\n",
    "print(f'Accuracy score of baseline_zeroR model trained on downsampled data: {zeroR_acc_score_down}')\n",
    "#print(classification_report(y_test, baseline_zeroR.predict(y_test)))\n",
    "zeroR_auc_score = roc_auc_score(y_test, baseline_zeroR.predict_proba(X_test), average='macro', multi_class='ovo')\n",
    "print(f'AUC score: {zeroR_auc_score}')\n",
    "'''\n",
    "\n",
    "# plot the result\n",
    "labels = ['imbalanced data', 'oversampled data']\n",
    "acc_scores = [zeroR_acc_score, zeroR_acc_score_up]\n",
    "auc_scores = [zeroR_auc_score, zeroR_auc_score_up]\n",
    "x = np.arange(len(labels))  # the label locations\n",
    "width = 0.2  # the width of the bars\n",
    "fig, ax = plt.subplots()\n",
    "ax.bar(x - width/2, acc_scores, width, label='Accuracy')\n",
    "ax.bar(x + width/2, auc_scores, width, label='AUC')\n",
    "ax.set_ylabel('Performance')\n",
    "ax.set_title('Zero Rule model')\n",
    "ax.set_xticks(x)\n",
    "ax.set_xticklabels(labels)\n",
    "ax.legend()\n",
    "fig.tight_layout()\n",
    "plt.show()"
   ],
   "metadata": {
    "collapsed": false,
    "pycharm": {
     "name": "#%%\n"
    }
   }
  },
  {
   "cell_type": "code",
   "execution_count": 15,
   "outputs": [
    {
     "name": "stdout",
     "output_type": "stream",
     "text": [
      "--------------stratified---------------\n",
      "Accuracy score of baseline_stratified model: 0.37155963302752293\n",
      "AUC score: 0.5320655275249484\n",
      "Accuracy score of baseline_stratified model trained on upsampled data: 0.23853211009174313\n",
      "AUC score: 0.5198474873275352\n"
     ]
    },
    {
     "data": {
      "text/plain": "<Figure size 432x288 with 1 Axes>",
      "image/png": "[encoded data removed]"
     },
     "metadata": {
      "needs_background": "light"
     },
     "output_type": "display_data"
    }
   ],
   "source": [
    "# “stratified”: generates predictions by respecting the training set’s class distribution.\n",
    "print('--------------stratified---------------')\n",
    "baseline_stratified = DummyClassifier(strategy=\"stratified\", random_state=0)\n",
    "baseline_stratified.fit(X_train, y_train)\n",
    "stratified_acc_score = baseline_stratified.score(X_test, y_test)  # 0.37\n",
    "print(f'Accuracy score of baseline_stratified model: {stratified_acc_score}')\n",
    "#print(classification_report(y_test, baseline_stratified.predict(y_test)))\n",
    "stratified_auc_score = roc_auc_score(y_test, baseline_stratified.predict_proba(X_test), average='macro', multi_class='ovo')#average='weighted', because of imbalanced data\n",
    "print(f'AUC score: {stratified_auc_score}')\n",
    "# using upsampled data\n",
    "baseline_stratified.fit(X_train_up, y_train_up)\n",
    "stratified_acc_score_up = baseline_stratified.score(X_test, y_test)  # 0.23\n",
    "print(f'Accuracy score of baseline_stratified model trained on upsampled data: {stratified_acc_score_up}')\n",
    "#print(classification_report(y_test, baseline_stratified.predict(y_test)))\n",
    "stratified_auc_score_up = roc_auc_score(y_test, baseline_stratified.predict_proba(X_test), average='macro', multi_class='ovo')\n",
    "print(f'AUC score: {stratified_auc_score_up}')\n",
    "'''\n",
    "# using downsampled data\n",
    "baseline_stratified.fit(X_train_down, y_train_down)\n",
    "stratified_acc_score_down = baseline_stratified.score(X_test, y_test)  #\n",
    "print(f'Accuracy score of baseline_stratified model trained on downsampled data: {stratified_acc_score_down}')\n",
    "#print(classification_report(y_test, baseline_stratified.predict(y_test)))\n",
    "stratified_auc_score = roc_auc_score(y_test, baseline_stratified.predict_proba(X_test), average='macro', multi_class='ovo')\n",
    "print(f'AUC score: {stratified_auc_score}')\n",
    "'''\n",
    "\n",
    "# plot the result\n",
    "labels = ['imbalanced data', 'oversampled data']\n",
    "acc_scores = [stratified_acc_score, stratified_acc_score_up]\n",
    "auc_scores = [stratified_auc_score, stratified_auc_score_up]\n",
    "x = np.arange(len(labels))  # the label locations\n",
    "width = 0.2  # the width of the bars\n",
    "fig, ax = plt.subplots()\n",
    "ax.bar(x - width/2, acc_scores, width, label='Accuracy')\n",
    "ax.bar(x + width/2, auc_scores, width, label='AUC')\n",
    "ax.set_ylabel('Performance')\n",
    "ax.set_title('Stratified model')\n",
    "ax.set_xticks(x)\n",
    "ax.set_xticklabels(labels)\n",
    "ax.legend()\n",
    "fig.tight_layout()\n",
    "plt.show()"
   ],
   "metadata": {
    "collapsed": false,
    "pycharm": {
     "name": "#%%\n"
    }
   }
  },
  {
   "cell_type": "code",
   "execution_count": 16,
   "outputs": [
    {
     "name": "stdout",
     "output_type": "stream",
     "text": [
      "--------------random---------------\n",
      "Accuracy score of baseline_randm model: 0.2408256880733945\n",
      "AUC score: 0.5\n",
      "Accuracy score of baseline_random model trained on upsampled data: 0.2408256880733945\n",
      "AUC score: 0.5\n"
     ]
    },
    {
     "data": {
      "text/plain": "<Figure size 432x288 with 1 Axes>",
      "image/png": "[encoded data removed]"
     },
     "metadata": {
      "needs_background": "light"
     },
     "output_type": "display_data"
    }
   ],
   "source": [
    "# “uniform”: generates predictions uniformly at random.\n",
    "print('--------------random---------------')\n",
    "baseline_random = DummyClassifier(strategy=\"uniform\", random_state=0)\n",
    "baseline_random.fit(X_train, y_train)\n",
    "random_acc_score = baseline_random.score(X_test, y_test)  # 0.24\n",
    "print(f'Accuracy score of baseline_randm model: {random_acc_score}')\n",
    "#print(classification_report(y_test, baseline_random.predict(y_test)))\n",
    "random_auc_score = roc_auc_score(y_test, baseline_random.predict_proba(X_test), average='macro', multi_class='ovo')#average='weighted', because of imbalanced data\n",
    "print(f'AUC score: {random_auc_score}')\n",
    "# using upsampled data\n",
    "baseline_random.fit(X_train_up, y_train_up)\n",
    "random_acc_score_up = baseline_random.score(X_test, y_test)  # 0.24\n",
    "print(f'Accuracy score of baseline_random model trained on upsampled data: {random_acc_score_up}')\n",
    "#print(classification_report(y_test, baseline_random.predict(y_test)))\n",
    "random_auc_score_up = roc_auc_score(y_test, baseline_random.predict_proba(X_test), average='macro', multi_class='ovo')\n",
    "print(f'AUC score: {random_auc_score_up}')\n",
    "'''\n",
    "# using downsampled data\n",
    "baseline_random.fit(X_train_down, y_train_down)\n",
    "random_acc_score_down = baseline_random.score(X_test, y_test)  #\n",
    "print(f'Accuracy score of baseline_random model trained on downsampled data: {random_acc_score_down}')\n",
    "#print(classification_report(y_test, baseline_random.predict(y_test)))\n",
    "random_auc_score = roc_auc_score(y_test, baseline_random.predict_proba(X_test), average='macro', multi_class='ovo')\n",
    "print(f'AUC score: {random_auc_score}')\n",
    "'''\n",
    "\n",
    "# plot the result\n",
    "labels = ['imbalanced data', 'oversampled data']\n",
    "acc_scores = [random_acc_score, random_acc_score_up]\n",
    "auc_scores = [random_auc_score, random_auc_score_up]\n",
    "x = np.arange(len(labels))  # the label locations\n",
    "width = 0.2  # the width of the bars\n",
    "fig, ax = plt.subplots()\n",
    "ax.bar(x - width/2, acc_scores, width, label='Accuracy')\n",
    "ax.bar(x + width/2, auc_scores, width, label='AUC')\n",
    "ax.set_ylabel('Performance')\n",
    "ax.set_title('Random model')\n",
    "ax.set_xticks(x)\n",
    "ax.set_xticklabels(labels)\n",
    "ax.legend()\n",
    "fig.tight_layout()\n",
    "plt.show()"
   ],
   "metadata": {
    "collapsed": false,
    "pycharm": {
     "name": "#%%\n"
    }
   }
  },
  {
   "cell_type": "code",
   "execution_count": 20,
   "outputs": [
    {
     "data": {
      "text/plain": "<Figure size 432x288 with 1 Axes>",
      "image/png": "[encoded data removed]"
     },
     "metadata": {
      "needs_background": "light"
     },
     "output_type": "display_data"
    }
   ],
   "source": [
    "# plot results from 3 baselines, only use scores based on oversampled data\n",
    "labels = ['Zero Rule', 'Stratified', 'Random']\n",
    "acc_scores = [zeroR_acc_score_up, stratified_acc_score_up, random_acc_score_up]\n",
    "auc_scores = [zeroR_auc_score_up, stratified_auc_score_up, random_auc_score_up]\n",
    "x = np.arange(len(labels))  # the label locations\n",
    "width = 0.2  # the width of the bars\n",
    "fig, ax = plt.subplots()\n",
    "ax.bar(x - width/2, acc_scores, width, label='Accuracy')\n",
    "ax.bar(x + width/2, auc_scores, width, label='AUC')\n",
    "ax.set_ylabel('Performance')\n",
    "ax.set_title('Performance of 3 baseline models')\n",
    "ax.set_xticks(x)\n",
    "ax.set_xticklabels(labels)\n",
    "ax.legend()\n",
    "fig.tight_layout()\n",
    "plt.show()"
   ],
   "metadata": {
    "collapsed": false,
    "pycharm": {
     "name": "#%%\n"
    }
   }
  },
  {
   "cell_type": "markdown",
   "source": [
    "#### Neural network\n",
    "Model selection using 5-fold cross validation, inclusive hyperparameter tuning."
   ],
   "metadata": {
    "collapsed": false
   }
  },
  {
   "cell_type": "code",
   "execution_count": 29,
   "outputs": [
    {
     "name": "stdout",
     "output_type": "stream",
     "text": [
      "Fitting 5 folds for each of 6 candidates, totalling 30 fits\n"
     ]
    },
    {
     "data": {
      "text/plain": "GridSearchCV(cv=StratifiedKFold(n_splits=5, random_state=0, shuffle=True),\n             estimator=MLPClassifier(early_stopping=True, max_iter=100,\n                                     n_iter_no_change=5, random_state=0),\n             param_grid={'hidden_layer_sizes': [(100, 100), (100, 100, 100)],\n                         'learning_rate_init': [0.1, 0.01, 0.001]},\n             refit='AUC', return_train_score=True,\n             scoring={'AUC': 'roc_auc_ovo', 'Accuracy': 'accuracy',\n                      'F1': 'f1_macro'},\n             verbose=True)"
     },
     "execution_count": 29,
     "metadata": {},
     "output_type": "execute_result"
    }
   ],
   "source": [
    "# Perform cross-validation to optimize hyperparameters\n",
    "cv = StratifiedKFold(n_splits=5, shuffle=True, random_state=0)\n",
    "\n",
    "ann_model = MLPClassifier(activation='relu', solver='adam', max_iter=100, early_stopping=True, random_state=0, n_iter_no_change=5)\n",
    "\n",
    "ann_params = {\n",
    "    'hidden_layer_sizes': [(100, 100), (100, 100, 100)],\n",
    "    'learning_rate_init': [0.1, 0.01, 0.001]}#,'activation':['relu', 'tanh', 'logistic']}\n",
    "\n",
    "scoring = {'Accuracy': 'accuracy', 'AUC': 'roc_auc_ovo', 'F1': 'f1_macro'}  # for balanced data\n",
    "#scoring = {'Accuracy': 'balanced_accuracy', 'AUC': 'roc_auc_ovo_weighted', 'F1': 'f1_weighted'}  # if working with imbalanced data\n",
    "\n",
    "ann_grid = GridSearchCV(estimator=ann_model, cv=cv, param_grid=ann_params, return_train_score=True, scoring=scoring, refit='AUC', verbose=True)\n",
    "ann_grid.fit(X_train_up, y_train_up)"
   ],
   "metadata": {
    "collapsed": false,
    "pycharm": {
     "name": "#%%\n"
    }
   }
  },
  {
   "cell_type": "markdown",
   "source": [
    "#### Random Forest"
   ],
   "metadata": {
    "collapsed": false,
    "pycharm": {
     "name": "#%% md\n"
    }
   }
  },
  {
   "cell_type": "code",
   "execution_count": 36,
   "outputs": [
    {
     "name": "stdout",
     "output_type": "stream",
     "text": [
      "Fitting 5 folds for each of 4 candidates, totalling 20 fits\n"
     ]
    },
    {
     "data": {
      "text/plain": "GridSearchCV(cv=StratifiedKFold(n_splits=5, random_state=0, shuffle=True),\n             estimator=RandomForestClassifier(max_depth=8, oob_score=True,\n                                              random_state=0),\n             param_grid={'max_depth': [4, 8], 'n_estimators': [100, 300]},\n             refit='AUC', return_train_score=True,\n             scoring={'AUC': 'roc_auc_ovo', 'Accuracy': 'accuracy',\n                      'F1': 'f1_macro'},\n             verbose=True)"
     },
     "execution_count": 36,
     "metadata": {},
     "output_type": "execute_result"
    }
   ],
   "source": [
    "# Perform cross-validation to optimize hyperparameters\n",
    "cv = StratifiedKFold(n_splits=5, shuffle=True, random_state=0)\n",
    "\n",
    "rfc_model = RandomForestClassifier(n_estimators=100, max_depth=8, random_state=0, oob_score=True, criterion='gini')\n",
    "\n",
    "rfc_params = {\n",
    "    'n_estimators': [100, 300],\n",
    "    #'max_features': ['sqrt', 'log2', None, 0.5],  # The number of features to consider when looking for the best split\n",
    "    'max_depth' : [4, 8],\n",
    "    #'criterion' : ['gini', 'entropy']\n",
    "}\n",
    "\n",
    "scoring = {'Accuracy': 'accuracy', 'AUC': 'roc_auc_ovo', 'F1': 'f1_macro'}  # for balanced data\n",
    "#scoring = {'Accuracy': 'balanced_accuracy', 'AUC': 'roc_auc_ovo_weighted', 'F1': 'f1_weighted'}  # if working with imbalanced data\n",
    "\n",
    "rfc_grid = GridSearchCV(estimator=rfc_model, param_grid=rfc_params, cv=cv, return_train_score=True, scoring=scoring, refit='AUC', verbose=True)\n",
    "rfc_grid.fit(X_train_up, y_train_up)"
   ],
   "metadata": {
    "collapsed": false,
    "pycharm": {
     "name": "#%%\n"
    }
   }
  },
  {
   "cell_type": "markdown",
   "source": [
    "#### Suppport Vector Classification"
   ],
   "metadata": {
    "collapsed": false
   }
  },
  {
   "cell_type": "code",
   "execution_count": 9,
   "outputs": [
    {
     "name": "stdout",
     "output_type": "stream",
     "text": [
      "Fitting 5 folds for each of 6 candidates, totalling 30 fits\n"
     ]
    },
    {
     "data": {
      "text/plain": "GridSearchCV(cv=StratifiedKFold(n_splits=5, random_state=0, shuffle=True),\n             estimator=SVC(probability=True, random_state=0),\n             param_grid={'C': [0.1, 1], 'gamma': [0.001, 'scale', 'auto']},\n             refit='AUC', return_train_score=True,\n             scoring={'AUC': 'roc_auc_ovo', 'Accuracy': 'accuracy',\n                      'F1': 'f1_macro'},\n             verbose=True)"
     },
     "execution_count": 9,
     "metadata": {},
     "output_type": "execute_result"
    }
   ],
   "source": [
    "# Perform cross-validation to optimize hyperparameters\n",
    "cv = StratifiedKFold(n_splits=5, shuffle=True, random_state=0)\n",
    "\n",
    "svc_model = SVC(random_state=0, probability=True, kernel='rbf')\n",
    "\n",
    "svc_params = {\n",
    "    'C': [0.1, 1],\n",
    "    'gamma': [0.001, 'scale', 'auto'],\n",
    "    #'kernel': ['rbf', 'poly', 'sigmoid']\n",
    "}\n",
    "\n",
    "scoring = {'Accuracy': 'accuracy', 'AUC': 'roc_auc_ovo', 'F1': 'f1_macro'}  # for balanced data\n",
    "#scoring = {'Accuracy': 'balanced_accuracy', 'AUC': 'roc_auc_ovo_weighted', 'F1': 'f1_weighted'}  # if working with imbalanced data\n",
    "\n",
    "svc_grid = GridSearchCV(estimator=svc_model, param_grid=svc_params, cv=cv, return_train_score=True, scoring=scoring, refit='AUC', verbose=True)\n",
    "svc_grid.fit(X_train_up, y_train_up)"
   ],
   "metadata": {
    "collapsed": false,
    "pycharm": {
     "name": "#%%\n"
    }
   }
  },
  {
   "cell_type": "markdown",
   "source": [
    "#### Result analysis\n",
    "Results on the training data."
   ],
   "metadata": {
    "collapsed": false
   }
  },
  {
   "cell_type": "code",
   "execution_count": 31,
   "outputs": [
    {
     "name": "stdout",
     "output_type": "stream",
     "text": [
      "   mean_test_Accuracy  std_test_Accuracy  mean_train_Accuracy  \\\n",
      "4             0.82822           0.009591             0.962982   \n",
      "\n",
      "   std_train_Accuracy  mean_test_AUC  std_test_AUC  mean_train_AUC  \\\n",
      "4             0.00768       0.937218      0.005396        0.993896   \n",
      "\n",
      "   std_train_AUC  mean_test_F1  std_test_F1  mean_train_F1  std_train_F1  \n",
      "4       0.001137      0.826665     0.009925       0.962963      0.007669  \n",
      "\n",
      "{'hidden_layer_sizes': (100, 100, 100), 'learning_rate_init': 0.01}\n"
     ]
    }
   ],
   "source": [
    "# neural network\n",
    "ann_cv_results = pd.DataFrame(ann_grid.cv_results_)\n",
    "#print(ann_cv_results)\n",
    "ann_best_result = ann_cv_results.loc[ann_cv_results['rank_test_AUC'] == 1]\n",
    "print(ann_best_result[[\n",
    "    'mean_test_Accuracy', 'std_test_Accuracy', 'mean_train_Accuracy',  'std_train_Accuracy',\n",
    "    'mean_test_AUC', 'std_test_AUC', 'mean_train_AUC',  'std_train_AUC',\n",
    "    'mean_test_F1', 'std_test_F1', 'mean_train_F1',  'std_train_F1']])\n",
    "print()\n",
    "print(ann_grid.best_params_)"
   ],
   "metadata": {
    "collapsed": false,
    "pycharm": {
     "name": "#%%\n"
    }
   }
  },
  {
   "cell_type": "code",
   "source": [
    "# random forest\n",
    "rfc_cv_results = pd.DataFrame(rfc_grid.cv_results_)\n",
    "#print(rfc_cv_results)\n",
    "rfc_best_result = rfc_cv_results.loc[rfc_cv_results['rank_test_AUC'] == 1]\n",
    "print(rfc_best_result[[\n",
    "    'mean_test_Accuracy', 'std_test_Accuracy', 'mean_train_Accuracy',  'std_train_Accuracy',\n",
    "    'mean_test_AUC', 'std_test_AUC', 'mean_train_AUC',  'std_train_AUC',\n",
    "    'mean_test_F1', 'std_test_F1', 'mean_train_F1',  'std_train_F1']])\n",
    "print()\n",
    "print(rfc_grid.best_params_)"
   ],
   "metadata": {
    "collapsed": false,
    "pycharm": {
     "name": "#%%\n"
    }
   },
   "execution_count": 37,
   "outputs": [
    {
     "name": "stdout",
     "output_type": "stream",
     "text": [
      "   mean_test_Accuracy  std_test_Accuracy  mean_train_Accuracy  \\\n",
      "3            0.797477           0.006198             0.890498   \n",
      "\n",
      "   std_train_Accuracy  mean_test_AUC  std_test_AUC  mean_train_AUC  \\\n",
      "3             0.00337       0.920881      0.001195        0.962875   \n",
      "\n",
      "   std_train_AUC  mean_test_F1  std_test_F1  mean_train_F1  std_train_F1  \n",
      "3       0.001611      0.793312      0.00599       0.888679      0.003036  \n",
      "\n",
      "{'max_depth': 8, 'n_estimators': 300}\n"
     ]
    }
   ]
  },
  {
   "cell_type": "code",
   "execution_count": 14,
   "outputs": [
    {
     "ename": "KeyboardInterrupt",
     "evalue": "",
     "output_type": "error",
     "traceback": [
      "\u001B[1;31m---------------------------------------------------------------------------\u001B[0m",
      "\u001B[1;31mKeyboardInterrupt\u001B[0m                         Traceback (most recent call last)",
      "\u001B[1;32m<ipython-input-14-3bdfd8cc8560>\u001B[0m in \u001B[0;36m<module>\u001B[1;34m\u001B[0m\n\u001B[0;32m      4\u001B[0m \u001B[1;31m#print(svc_cv_results)\u001B[0m\u001B[1;33m\u001B[0m\u001B[1;33m\u001B[0m\u001B[1;33m\u001B[0m\u001B[0m\n\u001B[0;32m      5\u001B[0m \u001B[0msvc_best_result\u001B[0m \u001B[1;33m=\u001B[0m \u001B[0msvc_cv_results\u001B[0m\u001B[1;33m.\u001B[0m\u001B[0mloc\u001B[0m\u001B[1;33m[\u001B[0m\u001B[0msvc_cv_results\u001B[0m\u001B[1;33m[\u001B[0m\u001B[1;34m'rank_test_AUC'\u001B[0m\u001B[1;33m]\u001B[0m \u001B[1;33m==\u001B[0m \u001B[1;36m1\u001B[0m\u001B[1;33m]\u001B[0m\u001B[1;33m\u001B[0m\u001B[1;33m\u001B[0m\u001B[0m\n\u001B[1;32m----> 6\u001B[1;33m print(svc_best_result[[\n\u001B[0m\u001B[0;32m      7\u001B[0m     \u001B[1;34m'mean_test_Accuracy'\u001B[0m\u001B[1;33m,\u001B[0m \u001B[1;34m'std_test_Accuracy'\u001B[0m\u001B[1;33m,\u001B[0m \u001B[1;34m'mean_train_Accuracy'\u001B[0m\u001B[1;33m,\u001B[0m  \u001B[1;34m'std_train_Accuracy'\u001B[0m\u001B[1;33m,\u001B[0m\u001B[1;33m\u001B[0m\u001B[1;33m\u001B[0m\u001B[0m\n\u001B[0;32m      8\u001B[0m     \u001B[1;34m'mean_test_AUC'\u001B[0m\u001B[1;33m,\u001B[0m \u001B[1;34m'std_test_AUC'\u001B[0m\u001B[1;33m,\u001B[0m \u001B[1;34m'mean_train_AUC'\u001B[0m\u001B[1;33m,\u001B[0m  \u001B[1;34m'std_train_AUC'\u001B[0m\u001B[1;33m,\u001B[0m\u001B[1;33m\u001B[0m\u001B[1;33m\u001B[0m\u001B[0m\n",
      "\u001B[1;32m<ipython-input-14-3bdfd8cc8560>\u001B[0m in \u001B[0;36m<module>\u001B[1;34m\u001B[0m\n\u001B[0;32m      4\u001B[0m \u001B[1;31m#print(svc_cv_results)\u001B[0m\u001B[1;33m\u001B[0m\u001B[1;33m\u001B[0m\u001B[1;33m\u001B[0m\u001B[0m\n\u001B[0;32m      5\u001B[0m \u001B[0msvc_best_result\u001B[0m \u001B[1;33m=\u001B[0m \u001B[0msvc_cv_results\u001B[0m\u001B[1;33m.\u001B[0m\u001B[0mloc\u001B[0m\u001B[1;33m[\u001B[0m\u001B[0msvc_cv_results\u001B[0m\u001B[1;33m[\u001B[0m\u001B[1;34m'rank_test_AUC'\u001B[0m\u001B[1;33m]\u001B[0m \u001B[1;33m==\u001B[0m \u001B[1;36m1\u001B[0m\u001B[1;33m]\u001B[0m\u001B[1;33m\u001B[0m\u001B[1;33m\u001B[0m\u001B[0m\n\u001B[1;32m----> 6\u001B[1;33m print(svc_best_result[[\n\u001B[0m\u001B[0;32m      7\u001B[0m     \u001B[1;34m'mean_test_Accuracy'\u001B[0m\u001B[1;33m,\u001B[0m \u001B[1;34m'std_test_Accuracy'\u001B[0m\u001B[1;33m,\u001B[0m \u001B[1;34m'mean_train_Accuracy'\u001B[0m\u001B[1;33m,\u001B[0m  \u001B[1;34m'std_train_Accuracy'\u001B[0m\u001B[1;33m,\u001B[0m\u001B[1;33m\u001B[0m\u001B[1;33m\u001B[0m\u001B[0m\n\u001B[0;32m      8\u001B[0m     \u001B[1;34m'mean_test_AUC'\u001B[0m\u001B[1;33m,\u001B[0m \u001B[1;34m'std_test_AUC'\u001B[0m\u001B[1;33m,\u001B[0m \u001B[1;34m'mean_train_AUC'\u001B[0m\u001B[1;33m,\u001B[0m  \u001B[1;34m'std_train_AUC'\u001B[0m\u001B[1;33m,\u001B[0m\u001B[1;33m\u001B[0m\u001B[1;33m\u001B[0m\u001B[0m\n",
      "\u001B[1;32m_pydevd_bundle\\pydevd_cython_win32_36_64.pyx\u001B[0m in \u001B[0;36m_pydevd_bundle.pydevd_cython_win32_36_64.SafeCallWrapper.__call__\u001B[1;34m()\u001B[0m\n",
      "\u001B[1;32m_pydevd_bundle\\pydevd_cython_win32_36_64.pyx\u001B[0m in \u001B[0;36m_pydevd_bundle.pydevd_cython_win32_36_64.PyDBFrame.trace_dispatch\u001B[1;34m()\u001B[0m\n",
      "\u001B[1;32m_pydevd_bundle\\pydevd_cython_win32_36_64.pyx\u001B[0m in \u001B[0;36m_pydevd_bundle.pydevd_cython_win32_36_64.PyDBFrame.trace_dispatch\u001B[1;34m()\u001B[0m\n",
      "\u001B[1;32m_pydevd_bundle\\pydevd_cython_win32_36_64.pyx\u001B[0m in \u001B[0;36m_pydevd_bundle.pydevd_cython_win32_36_64.PyDBFrame.trace_dispatch\u001B[1;34m()\u001B[0m\n",
      "\u001B[1;32mD:\\Software\\PyCharm 2021.2\\plugins\\python\\helpers-pro\\jupyter_debug\\pydev_jupyter_plugin.py\u001B[0m in \u001B[0;36mstop\u001B[1;34m(plugin, pydb, frame, event, args, stop_info, arg, step_cmd)\u001B[0m\n\u001B[0;32m    163\u001B[0m         \u001B[0mframe\u001B[0m \u001B[1;33m=\u001B[0m \u001B[0msuspend_jupyter\u001B[0m\u001B[1;33m(\u001B[0m\u001B[0mmain_debugger\u001B[0m\u001B[1;33m,\u001B[0m \u001B[0mthread\u001B[0m\u001B[1;33m,\u001B[0m \u001B[0mframe\u001B[0m\u001B[1;33m,\u001B[0m \u001B[0mstep_cmd\u001B[0m\u001B[1;33m)\u001B[0m\u001B[1;33m\u001B[0m\u001B[1;33m\u001B[0m\u001B[0m\n\u001B[0;32m    164\u001B[0m         \u001B[1;32mif\u001B[0m \u001B[0mframe\u001B[0m\u001B[1;33m:\u001B[0m\u001B[1;33m\u001B[0m\u001B[1;33m\u001B[0m\u001B[0m\n\u001B[1;32m--> 165\u001B[1;33m             \u001B[0mmain_debugger\u001B[0m\u001B[1;33m.\u001B[0m\u001B[0mdo_wait_suspend\u001B[0m\u001B[1;33m(\u001B[0m\u001B[0mthread\u001B[0m\u001B[1;33m,\u001B[0m \u001B[0mframe\u001B[0m\u001B[1;33m,\u001B[0m \u001B[0mevent\u001B[0m\u001B[1;33m,\u001B[0m \u001B[0marg\u001B[0m\u001B[1;33m)\u001B[0m\u001B[1;33m\u001B[0m\u001B[1;33m\u001B[0m\u001B[0m\n\u001B[0m\u001B[0;32m    166\u001B[0m             \u001B[1;32mreturn\u001B[0m \u001B[1;32mTrue\u001B[0m\u001B[1;33m\u001B[0m\u001B[1;33m\u001B[0m\u001B[0m\n\u001B[0;32m    167\u001B[0m     \u001B[1;32mreturn\u001B[0m \u001B[1;32mFalse\u001B[0m\u001B[1;33m\u001B[0m\u001B[1;33m\u001B[0m\u001B[0m\n",
      "\u001B[1;32mD:\\Software\\PyCharm 2021.2\\plugins\\python\\helpers\\pydev\\pydevd.py\u001B[0m in \u001B[0;36mdo_wait_suspend\u001B[1;34m(self, thread, frame, event, arg, send_suspend_message, is_unhandled_exception)\u001B[0m\n\u001B[0;32m   1145\u001B[0m \u001B[1;33m\u001B[0m\u001B[0m\n\u001B[0;32m   1146\u001B[0m         \u001B[1;32mwith\u001B[0m \u001B[0mself\u001B[0m\u001B[1;33m.\u001B[0m\u001B[0m_threads_suspended_single_notification\u001B[0m\u001B[1;33m.\u001B[0m\u001B[0mnotify_thread_suspended\u001B[0m\u001B[1;33m(\u001B[0m\u001B[0mthread_id\u001B[0m\u001B[1;33m,\u001B[0m \u001B[0mstop_reason\u001B[0m\u001B[1;33m)\u001B[0m\u001B[1;33m:\u001B[0m\u001B[1;33m\u001B[0m\u001B[1;33m\u001B[0m\u001B[0m\n\u001B[1;32m-> 1147\u001B[1;33m             \u001B[0mself\u001B[0m\u001B[1;33m.\u001B[0m\u001B[0m_do_wait_suspend\u001B[0m\u001B[1;33m(\u001B[0m\u001B[0mthread\u001B[0m\u001B[1;33m,\u001B[0m \u001B[0mframe\u001B[0m\u001B[1;33m,\u001B[0m \u001B[0mevent\u001B[0m\u001B[1;33m,\u001B[0m \u001B[0marg\u001B[0m\u001B[1;33m,\u001B[0m \u001B[0msuspend_type\u001B[0m\u001B[1;33m,\u001B[0m \u001B[0mfrom_this_thread\u001B[0m\u001B[1;33m)\u001B[0m\u001B[1;33m\u001B[0m\u001B[1;33m\u001B[0m\u001B[0m\n\u001B[0m\u001B[0;32m   1148\u001B[0m \u001B[1;33m\u001B[0m\u001B[0m\n\u001B[0;32m   1149\u001B[0m     \u001B[1;32mdef\u001B[0m \u001B[0m_do_wait_suspend\u001B[0m\u001B[1;33m(\u001B[0m\u001B[0mself\u001B[0m\u001B[1;33m,\u001B[0m \u001B[0mthread\u001B[0m\u001B[1;33m,\u001B[0m \u001B[0mframe\u001B[0m\u001B[1;33m,\u001B[0m \u001B[0mevent\u001B[0m\u001B[1;33m,\u001B[0m \u001B[0marg\u001B[0m\u001B[1;33m,\u001B[0m \u001B[0msuspend_type\u001B[0m\u001B[1;33m,\u001B[0m \u001B[0mfrom_this_thread\u001B[0m\u001B[1;33m)\u001B[0m\u001B[1;33m:\u001B[0m\u001B[1;33m\u001B[0m\u001B[1;33m\u001B[0m\u001B[0m\n",
      "\u001B[1;32mD:\\Software\\PyCharm 2021.2\\plugins\\python\\helpers\\pydev\\pydevd.py\u001B[0m in \u001B[0;36m_do_wait_suspend\u001B[1;34m(self, thread, frame, event, arg, suspend_type, from_this_thread)\u001B[0m\n\u001B[0;32m   1160\u001B[0m \u001B[1;33m\u001B[0m\u001B[0m\n\u001B[0;32m   1161\u001B[0m                 \u001B[0mself\u001B[0m\u001B[1;33m.\u001B[0m\u001B[0mprocess_internal_commands\u001B[0m\u001B[1;33m(\u001B[0m\u001B[1;33m)\u001B[0m\u001B[1;33m\u001B[0m\u001B[1;33m\u001B[0m\u001B[0m\n\u001B[1;32m-> 1162\u001B[1;33m                 \u001B[0mtime\u001B[0m\u001B[1;33m.\u001B[0m\u001B[0msleep\u001B[0m\u001B[1;33m(\u001B[0m\u001B[1;36m0.01\u001B[0m\u001B[1;33m)\u001B[0m\u001B[1;33m\u001B[0m\u001B[1;33m\u001B[0m\u001B[0m\n\u001B[0m\u001B[0;32m   1163\u001B[0m \u001B[1;33m\u001B[0m\u001B[0m\n\u001B[0;32m   1164\u001B[0m         \u001B[0mself\u001B[0m\u001B[1;33m.\u001B[0m\u001B[0mcancel_async_evaluation\u001B[0m\u001B[1;33m(\u001B[0m\u001B[0mget_current_thread_id\u001B[0m\u001B[1;33m(\u001B[0m\u001B[0mthread\u001B[0m\u001B[1;33m)\u001B[0m\u001B[1;33m,\u001B[0m \u001B[0mstr\u001B[0m\u001B[1;33m(\u001B[0m\u001B[0mid\u001B[0m\u001B[1;33m(\u001B[0m\u001B[0mframe\u001B[0m\u001B[1;33m)\u001B[0m\u001B[1;33m)\u001B[0m\u001B[1;33m)\u001B[0m\u001B[1;33m\u001B[0m\u001B[1;33m\u001B[0m\u001B[0m\n",
      "\u001B[1;31mKeyboardInterrupt\u001B[0m: "
     ]
    }
   ],
   "source": [
    "# support vector\n",
    "svc_cv_results = pd.DataFrame(svc_grid.cv_results_)\n",
    "#print(svc_cv_results)\n",
    "svc_best_result = svc_cv_results.loc[svc_cv_results['rank_test_AUC'] == 1]\n",
    "print(svc_best_result[[\n",
    "    'mean_test_Accuracy', 'std_test_Accuracy', 'mean_train_Accuracy',  'std_train_Accuracy',\n",
    "    'mean_test_AUC', 'std_test_AUC', 'mean_train_AUC',  'std_train_AUC',\n",
    "    'mean_test_F1', 'std_test_F1', 'mean_train_F1',  'std_train_F1']])\n",
    "print()\n",
    "print(svc_grid.best_params_)"
   ],
   "metadata": {
    "collapsed": false,
    "pycharm": {
     "name": "#%%\n"
    }
   }
  },
  {
   "cell_type": "markdown",
   "source": [
    "#### Save or load trained models\n",
    "Use joblib to save trained models under directory \"trained_models\", or load them from same directory."
   ],
   "metadata": {
    "collapsed": false,
    "pycharm": {
     "name": "#%% md\n"
    }
   }
  },
  {
   "cell_type": "code",
   "execution_count": 43,
   "outputs": [
    {
     "data": {
      "text/plain": "['trained_models/ann_trained_model.sav']"
     },
     "execution_count": 43,
     "metadata": {},
     "output_type": "execute_result"
    }
   ],
   "source": [
    "# neural network\n",
    "# save the model to disk\n",
    "ann_filename = 'trained_models/ann_trained_model.sav'\n",
    "joblib.dump(ann_grid, ann_filename)"
   ],
   "metadata": {
    "collapsed": false,
    "pycharm": {
     "name": "#%%\n"
    }
   }
  },
  {
   "cell_type": "code",
   "execution_count": 2,
   "outputs": [],
   "source": [
    "# loading example: load the model from disk\n",
    "ann_filename = 'trained_models/ann_trained_model.sav'\n",
    "ann_grid = joblib.load(ann_filename)\n",
    "#loaded_model = joblib.load(ann_filename)\n",
    "#result = loaded_model.score(X_test, y_test)\n",
    "#print(result)"
   ],
   "metadata": {
    "collapsed": false,
    "pycharm": {
     "name": "#%%\n"
    }
   }
  },
  {
   "cell_type": "code",
   "execution_count": 44,
   "outputs": [
    {
     "data": {
      "text/plain": "['trained_models/rfc_trained_model.sav']"
     },
     "execution_count": 44,
     "metadata": {},
     "output_type": "execute_result"
    }
   ],
   "source": [
    "# random forest\n",
    "# save the model to disk\n",
    "rfc_filename = 'trained_models/rfc_trained_model.sav'\n",
    "joblib.dump(rfc_grid, rfc_filename)"
   ],
   "metadata": {
    "collapsed": false,
    "pycharm": {
     "name": "#%%\n"
    }
   }
  },
  {
   "cell_type": "code",
   "execution_count": null,
   "outputs": [],
   "source": [
    "# load model\n",
    "rfc_filename = 'trained_models/rfc_trained_model.sav'\n",
    "rfc_grid = joblib.load(rfc_filename)"
   ],
   "metadata": {
    "collapsed": false,
    "pycharm": {
     "name": "#%%\n"
    }
   }
  },
  {
   "cell_type": "code",
   "execution_count": 11,
   "outputs": [
    {
     "data": {
      "text/plain": "['trained_models/svc_trained_model.sav']"
     },
     "execution_count": 11,
     "metadata": {},
     "output_type": "execute_result"
    }
   ],
   "source": [
    "# suppport vector\n",
    "# save the model to disk\n",
    "svc_filename = 'trained_models/svc_trained_model.sav'\n",
    "joblib.dump(svc_grid, svc_filename)"
   ],
   "metadata": {
    "collapsed": false,
    "pycharm": {
     "name": "#%%\n"
    }
   }
  },
  {
   "cell_type": "code",
   "execution_count": null,
   "outputs": [],
   "source": [
    "# load model\n",
    "svc_filename = 'trained_models/svc_trained_model.sav'\n",
    "svc_grid = joblib.load(svc_filename)"
   ],
   "metadata": {
    "collapsed": false,
    "pycharm": {
     "name": "#%%\n"
    }
   }
  },
  {
   "cell_type": "markdown",
   "source": [
    "#### Performance estimation\n",
    "Use best estimator and assess performance on the test set."
   ],
   "metadata": {
    "collapsed": false,
    "pycharm": {
     "name": "#%% md\n"
    }
   }
  },
  {
   "cell_type": "code",
   "execution_count": 39,
   "outputs": [
    {
     "name": "stdout",
     "output_type": "stream",
     "text": [
      "MLPClassifier(early_stopping=True, hidden_layer_sizes=(100, 100, 100),\n",
      "              learning_rate_init=0.01, max_iter=100, n_iter_no_change=5,\n",
      "              random_state=0)\n",
      "Accuracy score of best_ann_model: 0.376\n",
      "AUC score: 0.5456411216078101\n",
      "              precision    recall  f1-score   support\n",
      "\n",
      "           1       0.16      0.20      0.18        79\n",
      "           2       0.38      0.17      0.23       137\n",
      "           3       0.47      0.58      0.52       212\n",
      "           4       0.11      0.12      0.12         8\n",
      "\n",
      "    accuracy                           0.38       436\n",
      "   macro avg       0.28      0.27      0.26       436\n",
      "weighted avg       0.38      0.38      0.36       436\n",
      "\n"
     ]
    }
   ],
   "source": [
    "# neural network\n",
    "# Calculate predictions\n",
    "best_ann_model = ann_grid.best_estimator_\n",
    "print(best_ann_model)\n",
    "\n",
    "ann_y_pred = best_ann_model.predict(X_test)\n",
    "ann_pred_score = best_ann_model.score(X_test, y_test)\n",
    "print('Accuracy score of best_ann_model: {}'.format(round(ann_pred_score, 3)))\n",
    "\n",
    "ann_auc_score = roc_auc_score(y_test, best_ann_model.predict_proba(X_test), average='weighted', multi_class='ovo')\n",
    "print(f'AUC score: {ann_auc_score}')\n",
    "\n",
    "ann_cl_report = classification_report(y_test, ann_y_pred)\n",
    "print(ann_cl_report)"
   ],
   "metadata": {
    "collapsed": false,
    "pycharm": {
     "name": "#%%\n"
    }
   }
  },
  {
   "cell_type": "code",
   "execution_count": 30,
   "outputs": [
    {
     "name": "stdout",
     "output_type": "stream",
     "text": [
      "RandomForestClassifier(criterion='entropy', max_depth=8, max_features=None,\n",
      "                       n_estimators=500, oob_score=True, random_state=0)\n",
      "Accuracy score of best_rfc_model: 0.335\n",
      "AUC score: 0.566\n",
      "              precision    recall  f1-score   support\n",
      "\n",
      "           1       0.20      0.18      0.19        79\n",
      "           2       0.26      0.14      0.18       137\n",
      "           3       0.47      0.52      0.50       212\n",
      "           4       0.03      0.25      0.06         8\n",
      "\n",
      "    accuracy                           0.33       436\n",
      "   macro avg       0.24      0.27      0.23       436\n",
      "weighted avg       0.35      0.33      0.33       436\n",
      "\n"
     ]
    }
   ],
   "source": [
    "# random forest\n",
    "# Calculate predictions\n",
    "best_rfc_model = rfc_grid.best_estimator_\n",
    "print(best_rfc_model)\n",
    "\n",
    "rfc_y_pred = best_rfc_model.predict(X_test)\n",
    "rfc_pred_score = best_rfc_model.score(X_test, y_test)\n",
    "print('Accuracy score of best_rfc_model: {}'.format(round(rfc_pred_score, 3)))\n",
    "\n",
    "rfc_auc_score = roc_auc_score(y_test, best_rfc_model.predict_proba(X_test), average='weighted', multi_class='ovo')\n",
    "print(f'AUC score: {round(rfc_auc_score, 3)}')\n",
    "\n",
    "rfc_cl_report = classification_report(y_test, rfc_y_pred)\n",
    "print(rfc_cl_report)"
   ],
   "metadata": {
    "collapsed": false,
    "pycharm": {
     "name": "#%%\n"
    }
   }
  },
  {
   "cell_type": "code",
   "execution_count": 12,
   "outputs": [
    {
     "name": "stdout",
     "output_type": "stream",
     "text": [
      "SVC(C=1, probability=True, random_state=0)\n",
      "Accuracy score of best_svc_model: 0.353\n",
      "AUC score: 0.563\n",
      "              precision    recall  f1-score   support\n",
      "\n",
      "           1       0.23      0.30      0.26        79\n",
      "           2       0.29      0.17      0.21       137\n",
      "           3       0.49      0.50      0.49       212\n",
      "           4       0.03      0.12      0.05         8\n",
      "\n",
      "    accuracy                           0.35       436\n",
      "   macro avg       0.26      0.27      0.25       436\n",
      "weighted avg       0.37      0.35      0.35       436\n",
      "\n"
     ]
    }
   ],
   "source": [
    "# support vector\n",
    "# Calculate predictions\n",
    "best_svc_model = svc_grid.best_estimator_\n",
    "print(best_svc_model)\n",
    "\n",
    "svc_y_pred = best_svc_model.predict(X_test)\n",
    "svc_pred_score = best_svc_model.score(X_test, y_test)\n",
    "print('Accuracy score of best_svc_model: {}'.format(round(svc_pred_score, 3)))\n",
    "\n",
    "svc_auc_score = roc_auc_score(y_test, best_svc_model.predict_proba(X_test), average='weighted', multi_class='ovo')\n",
    "print(f'AUC score: {round(svc_auc_score, 3)}')\n",
    "\n",
    "svc_cl_report = classification_report(y_test, svc_y_pred)\n",
    "print(svc_cl_report)"
   ],
   "metadata": {
    "collapsed": false,
    "pycharm": {
     "name": "#%%\n"
    }
   }
  },
  {
   "cell_type": "markdown",
   "source": [
    "Calculate and plot confusion matrix. Rows indicate true labels, columns indicate predicted labels."
   ],
   "metadata": {
    "collapsed": false,
    "pycharm": {
     "name": "#%% md\n"
    }
   }
  },
  {
   "cell_type": "code",
   "execution_count": 40,
   "outputs": [
    {
     "name": "stdout",
     "output_type": "stream",
     "text": [
      "[[ 16  12  49   2]\n",
      " [ 23  23  90   1]\n",
      " [ 59  24 124   5]\n",
      " [  3   2   2   1]]\n"
     ]
    },
    {
     "data": {
      "text/plain": "<Figure size 432x288 with 2 Axes>",
      "image/png": "[encoded data removed]"
     },
     "metadata": {
      "needs_background": "light"
     },
     "output_type": "display_data"
    },
    {
     "data": {
      "text/plain": "<Figure size 432x288 with 2 Axes>",
      "image/png": "[encoded data removed]"
     },
     "metadata": {
      "needs_background": "light"
     },
     "output_type": "display_data"
    }
   ],
   "source": [
    "# neural network\n",
    "# Calculate confusion matrix (showing tp, fp, tn, fn)\n",
    "ann_cm = confusion_matrix(y_test, ann_y_pred)\n",
    "print(ann_cm)\n",
    "\n",
    "# plot confusion matrix\n",
    "plot_confusion_matrix(best_ann_model, X_test, y_test)\n",
    "plt.show()\n",
    "\n",
    "# plot confusion matrix (on train set)\n",
    "plot_confusion_matrix(best_ann_model, X_train_up, y_train_up)\n",
    "plt.show()"
   ],
   "metadata": {
    "collapsed": false,
    "pycharm": {
     "name": "#%%\n"
    }
   }
  },
  {
   "cell_type": "code",
   "execution_count": 32,
   "outputs": [
    {
     "name": "stdout",
     "output_type": "stream",
     "text": [
      "[[ 14  13  39  13]\n",
      " [ 18  19  84  16]\n",
      " [ 35  37 111  29]\n",
      " [  2   4   0   2]]\n"
     ]
    },
    {
     "data": {
      "text/plain": "<Figure size 432x288 with 2 Axes>",
      "image/png": "[encoded data removed]"
     },
     "metadata": {
      "needs_background": "light"
     },
     "output_type": "display_data"
    }
   ],
   "source": [
    "# random forest\n",
    "# Calculate confusion matrix (showing tp, fp, tn, fn)\n",
    "rfc_cm = confusion_matrix(y_test, rfc_y_pred)\n",
    "print(rfc_cm)\n",
    "\n",
    "# plot confusion matrix\n",
    "plot_confusion_matrix(best_rfc_model, X_test, y_test)\n",
    "plt.show()"
   ],
   "metadata": {
    "collapsed": false,
    "pycharm": {
     "name": "#%%\n"
    }
   }
  },
  {
   "cell_type": "code",
   "execution_count": 13,
   "outputs": [
    {
     "name": "stdout",
     "output_type": "stream",
     "text": [
      "[[ 24  17  33   5]\n",
      " [ 25  23  79  10]\n",
      " [ 52  36 106  18]\n",
      " [  4   3   0   1]]\n"
     ]
    },
    {
     "data": {
      "text/plain": "<Figure size 432x288 with 2 Axes>",
      "image/png": "[encoded data removed]"
     },
     "metadata": {
      "needs_background": "light"
     },
     "output_type": "display_data"
    }
   ],
   "source": [
    "# support vector\n",
    "# Calculate confusion matrix (showing tp, fp, tn, fn)\n",
    "svc_cm = confusion_matrix(y_test, svc_y_pred)\n",
    "print(svc_cm)\n",
    "\n",
    "# plot confusion matrix\n",
    "plot_confusion_matrix(best_svc_model, X_test, y_test)\n",
    "plt.show()"
   ],
   "metadata": {
    "collapsed": false,
    "pycharm": {
     "name": "#%%\n"
    }
   }
  },
  {
   "cell_type": "markdown",
   "source": [
    "Compute Area Under (AUC) the Receiver Operating Characteristic (ROC) Curve from prediction scores, plot ROC curve."
   ],
   "metadata": {
    "collapsed": false
   }
  },
  {
   "cell_type": "code",
   "execution_count": null,
   "outputs": [],
   "source": [],
   "metadata": {
    "collapsed": false,
    "pycharm": {
     "name": "#%%\n"
    }
   }
  }
 ],
 "metadata": {
  "kernelspec": {
   "name": "pycharm-d076acda",
   "language": "python",
   "display_name": "PyCharm (PBL)"
  },
  "language_info": {
   "codemirror_mode": {
    "name": "ipython",
    "version": 2
   },
   "file_extension": ".py",
   "mimetype": "text/x-python",
   "name": "python",
   "nbconvert_exporter": "python",
   "pygments_lexer": "ipython2",
   "version": "2.7.6"
  }
 },
 "nbformat": 4,
 "nbformat_minor": 0
}