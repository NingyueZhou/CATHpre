{
 "cells": [
  {
   "cell_type": "markdown",
   "source": [
    "#### Import packages\n"
   ],
   "metadata": {
    "collapsed": false,
    "pycharm": {
     "name": "#%% md\n"
    }
   }
  },
  {
   "cell_type": "code",
   "execution_count": 88,
   "metadata": {
    "collapsed": true,
    "pycharm": {
     "name": "#%%\n"
    }
   },
   "outputs": [],
   "source": [
    "import joblib\n",
    "import warnings\n",
    "import math\n",
    "import numpy as np\n",
    "import seaborn as sns\n",
    "from Bio import SeqIO\n",
    "from scipy.stats import sem, t, ttest_rel\n",
    "import matplotlib.pyplot as plt\n",
    "%matplotlib inline\n",
    "import pandas as pd\n",
    "pd.set_option('display.max_columns', None)  # show all columns\n",
    "\n",
    "from sklearn.preprocessing import LabelBinarizer, MultiLabelBinarizer, LabelEncoder, OneHotEncoder, StandardScaler\n",
    "from sklearn.model_selection import train_test_split, StratifiedKFold, GridSearchCV, StratifiedGroupKFold\n",
    "from sklearn.neural_network import MLPClassifier\n",
    "from sklearn.metrics import confusion_matrix, plot_confusion_matrix, classification_report, roc_auc_score, accuracy_score, f1_score\n",
    "from sklearn.dummy import DummyClassifier\n",
    "from sklearn.utils import resample, shuffle\n",
    "from sklearn.ensemble import RandomForestClassifier\n",
    "from sklearn.svm import SVC\n",
    "from sklearn.decomposition import PCA"
   ]
  },
  {
   "cell_type": "markdown",
   "source": [
    "#### Load data\n",
    "Define functions used for loading data.\n"
   ],
   "metadata": {
    "collapsed": false
   }
  },
  {
   "cell_type": "code",
   "execution_count": 5,
   "outputs": [
    {
     "data": {
      "text/plain": "\"\\ndef read_struc_file(df_label, struc_file_path):\\n    struc_dict = SeqIO.to_dict(SeqIO.parse(struc_file_path, 'fasta'))\\n\\n    chain_id_2_struc = []\\n\\n    # iterate over rows in df_label\\n    for row in df_label.itertuples(index=False, name='Pandas'):\\n        chain_id = row.chain_id\\n        #class_label = row.class_label\\n        domain_position = row.domain_position.split('-')  # example domain_position: 2-42 (should be 1-based)\\n        struc_start = int(domain_position[0]) - 1  # 1-based --> 0-based\\n        struc_end = int(domain_position[1]) - 1  # 1-based --> 0-based\\n        if chain_id in struc_dict:\\n            if struc_start >= 0:\\n                struc = struc_dict[chain_id][struc_start:struc_end+1]  # end-excluded\\n            else:  # seq_start < 0\\n                struc = struc_dict[chain_id][struc_start:] + struc_dict[chain_id][:struc_end+1]  # 'ABCDEF' & [-2,3] = 'EF'+ 'ABCD' = [-2:] + [:3]\\n            chain_id_2_struc.append([chain_id,domain_position, struc])#, class_label])\\n\\n    df_struc = pd.DataFrame(chain_id_2_struc, columns=['chain_id', 'domain_position', 'structure'])#, 'class_label'])\\n    \\n    return df_struc\\n\\n\\ndef read_dis_file(df_label, dis_file_path):\\n    dis_dict = SeqIO.to_dict(SeqIO.parse(dis_file_path, 'fasta'))\\n\\n    chain_id_2_dis = []\\n\\n    # iterate over rows in df_label\\n    for row in df_label.itertuples(index=False, name='Pandas'):\\n        chain_id = row.chain_id\\n        #class_label = row.class_label\\n        domain_position = row.domain_position.split('-')  # example domain_position: 2-42 (should be 1-based)\\n        dis_start = int(domain_position[0]) - 1  # 1-based --> 0-based\\n        dis_end = int(domain_position[1]) - 1  # 1-based --> 0-based\\n        if chain_id in dis_dict:\\n            if dis_start >= 0:\\n                dis = dis_dict[chain_id][dis_start:dis_end+1]  # end-excluded\\n            else:  # seq_start < 0\\n                dis = dis_dict[chain_id][dis_start:] + dis_dict[chain_id][:dis_end+1]  # 'ABCDEF' & [-2,3] = 'EF'+ 'ABCD' = [-2:] + [:3]\\n            chain_id_2_dis.append([chain_id, domain_position, dis])#, class_label])\\n\\n    df_dis = pd.DataFrame(chain_id_2_dis, columns=['chain_id', 'domain_position', 'structure'])#, 'class_label'])\\n    \\n    return df_dis\\n\""
     },
     "execution_count": 5,
     "metadata": {},
     "output_type": "execute_result"
    }
   ],
   "source": [
    "def read_process_label_file(label_file_path):\n",
    "    label_table = pd.read_csv(label_file_path, sep='\\t', usecols=['pdb_id', 'cath'])[['pdb_id', 'cath']]  # ensure columns in ['pdb_id', 'cath'] order\n",
    "\n",
    "    chain_id_2_domain_position_2_class_label = []\n",
    "\n",
    "    # iterate over rows in label_table\n",
    "    for row in label_table.itertuples(index=False, name='Pandas'):\n",
    "        pdb_id = row.pdb_id\n",
    "        cath_content = row.cath\n",
    "        cath_content = cath_content.split('),(')\n",
    "        cath_content = [tuple.strip(')(') for tuple in cath_content]  # remove specific leading and trailing characters '(' and ')' in the string\n",
    "        for tuple in cath_content:\n",
    "            tuple_content = tuple.split(',')  # tuple example: (2-42:A,420-555:A,2.105.10.10)\n",
    "            cath_label = tuple_content.pop(-1)  # e.g: 2.105.10.10 (class.architecture.topology.homologous_superfamiliy)\n",
    "            class_label = int(cath_label[:1])  # extract only the class label\n",
    "            #class_arch_label = [int(cath_label.split('.')[0]), int(cath_label.split('.')[1])]  # label for class & architecture prediction\n",
    "            for domain_info in tuple_content:\n",
    "                chain_name = domain_info.split(':')[1]  # domain_info example: 2-42:A\n",
    "                chain_id = pdb_id +':' + chain_name\n",
    "                domain_position = domain_info.split(':')[0]\n",
    "                chain_id_2_domain_position_2_class_label.append([chain_id, domain_position, class_label])  # add parse result as list to list\n",
    "\n",
    "    # convert result list to DataFrame\n",
    "    df_label = pd.DataFrame(chain_id_2_domain_position_2_class_label, columns=['chain_id', 'domain_position', 'class_label'])\n",
    "\n",
    "    return df_label\n",
    "\n",
    "\n",
    "def read_combine_seq_file(df_label, seq_file_path):\n",
    "    seq_dict = SeqIO.to_dict(SeqIO.parse(seq_file_path, 'fasta'))\n",
    "\n",
    "    chain_id_2_seq_2_class_label = []\n",
    "    aas = []\n",
    "\n",
    "    # iterate over rows in df_label\n",
    "    for row in df_label.itertuples(index=False, name='Pandas'):\n",
    "        chain_id = row.chain_id\n",
    "        class_label = row.class_label\n",
    "\n",
    "        # parse domain position info\n",
    "        if row.domain_position.startswith('-'):\n",
    "            #domain_position = [row.domain_position[:2], row.domain_position[3:]]  # example domain_position: -3-64 (first-M-based)\n",
    "            domain_position = row.domain_position[1:]\n",
    "            domain_position = domain_position.split('-')\n",
    "        else:\n",
    "            domain_position = row.domain_position.split('-')  # example domain_position: 2-42 (first-M-based)\n",
    "        try:\n",
    "            seq_start = int(domain_position[0])\n",
    "            if domain_position[1].startswith('-'):  # example domain_position: -64--3 (first-M-based)\n",
    "                seq_end = int(domain_position[1][1:])\n",
    "            else:\n",
    "                seq_end = int(domain_position[1])\n",
    "        except:\n",
    "            warnings.warn(f'Invalid domain positions: {row.domain_position}, ignore.')\n",
    "            #continue  # there are positions consist of number and letter, e.g. 1S-104S, ignore them\n",
    "\n",
    "        # go through all sequences, get desired segments\n",
    "        if chain_id in seq_dict:\n",
    "            seq = str(seq_dict[chain_id].seq)\n",
    "            if 'M' in seq:\n",
    "                seq_first_M = seq.index('M')  # return the position of the first occurrence of 'M' in seq --> this posiotion is assigned as position 1 in PDB file\n",
    "                seq_start = seq_start + seq_first_M - 1\n",
    "                seq_end = seq_end + seq_first_M - 1\n",
    "                seq = seq[seq_start:seq_end + 1]  # end-excluded\n",
    "            else:  # 'M' not in seq\n",
    "                #print('no M in this sequence')  # test\n",
    "                seq_start = seq_start - 1  # 1-based\n",
    "                seq_end = seq_end - 1  # 1-based\n",
    "                seq = seq[seq_start:seq_end + 1]  # end-excluded\n",
    "            if seq == '':\n",
    "                #print('this seq is empty')  # test\n",
    "                continue\n",
    "            else:  # seq is not empty\n",
    "                for aa in seq:\n",
    "                    if aa not in aas:\n",
    "                        aas.append(aa)\n",
    "            chain_id_2_seq_2_class_label.append([chain_id, domain_position, seq, class_label])\n",
    "\n",
    "    df_seq_label = pd.DataFrame(chain_id_2_seq_2_class_label, columns=['chain_id', 'domain_position', 'sequence', 'class_label'])\n",
    "\n",
    "    return df_seq_label, aas\n",
    "\n",
    "'''\n",
    "def read_struc_file(df_label, struc_file_path):\n",
    "    struc_dict = SeqIO.to_dict(SeqIO.parse(struc_file_path, 'fasta'))\n",
    "\n",
    "    chain_id_2_struc = []\n",
    "\n",
    "    # iterate over rows in df_label\n",
    "    for row in df_label.itertuples(index=False, name='Pandas'):\n",
    "        chain_id = row.chain_id\n",
    "        #class_label = row.class_label\n",
    "        domain_position = row.domain_position.split('-')  # example domain_position: 2-42 (should be 1-based)\n",
    "        struc_start = int(domain_position[0]) - 1  # 1-based --> 0-based\n",
    "        struc_end = int(domain_position[1]) - 1  # 1-based --> 0-based\n",
    "        if chain_id in struc_dict:\n",
    "            if struc_start >= 0:\n",
    "                struc = struc_dict[chain_id][struc_start:struc_end+1]  # end-excluded\n",
    "            else:  # seq_start < 0\n",
    "                struc = struc_dict[chain_id][struc_start:] + struc_dict[chain_id][:struc_end+1]  # 'ABCDEF' & [-2,3] = 'EF'+ 'ABCD' = [-2:] + [:3]\n",
    "            chain_id_2_struc.append([chain_id,domain_position, struc])#, class_label])\n",
    "\n",
    "    df_struc = pd.DataFrame(chain_id_2_struc, columns=['chain_id', 'domain_position', 'structure'])#, 'class_label'])\n",
    "    \n",
    "    return df_struc\n",
    "\n",
    "\n",
    "def read_dis_file(df_label, dis_file_path):\n",
    "    dis_dict = SeqIO.to_dict(SeqIO.parse(dis_file_path, 'fasta'))\n",
    "\n",
    "    chain_id_2_dis = []\n",
    "\n",
    "    # iterate over rows in df_label\n",
    "    for row in df_label.itertuples(index=False, name='Pandas'):\n",
    "        chain_id = row.chain_id\n",
    "        #class_label = row.class_label\n",
    "        domain_position = row.domain_position.split('-')  # example domain_position: 2-42 (should be 1-based)\n",
    "        dis_start = int(domain_position[0]) - 1  # 1-based --> 0-based\n",
    "        dis_end = int(domain_position[1]) - 1  # 1-based --> 0-based\n",
    "        if chain_id in dis_dict:\n",
    "            if dis_start >= 0:\n",
    "                dis = dis_dict[chain_id][dis_start:dis_end+1]  # end-excluded\n",
    "            else:  # seq_start < 0\n",
    "                dis = dis_dict[chain_id][dis_start:] + dis_dict[chain_id][:dis_end+1]  # 'ABCDEF' & [-2,3] = 'EF'+ 'ABCD' = [-2:] + [:3]\n",
    "            chain_id_2_dis.append([chain_id, domain_position, dis])#, class_label])\n",
    "\n",
    "    df_dis = pd.DataFrame(chain_id_2_dis, columns=['chain_id', 'domain_position', 'structure'])#, 'class_label'])\n",
    "    \n",
    "    return df_dis\n",
    "'''"
   ],
   "metadata": {
    "collapsed": false,
    "pycharm": {
     "name": "#%%\n"
    }
   }
  },
  {
   "cell_type": "markdown",
   "source": [
    "Load data from dataset."
   ],
   "metadata": {
    "collapsed": false,
    "pycharm": {
     "name": "#%% md\n"
    }
   }
  },
  {
   "cell_type": "code",
   "execution_count": 6,
   "outputs": [
    {
     "name": "stderr",
     "output_type": "stream",
     "text": [
      "D:\\Software\\Anaconda\\envs\\CATHpre\\lib\\site-packages\\ipykernel_launcher.py:54: UserWarning: Invalid domain positions: 6P-176, ignore.\n",
      "D:\\Software\\Anaconda\\envs\\CATHpre\\lib\\site-packages\\ipykernel_launcher.py:54: UserWarning: Invalid domain positions: 1S-104S, ignore.\n",
      "D:\\Software\\Anaconda\\envs\\CATHpre\\lib\\site-packages\\ipykernel_launcher.py:54: UserWarning: Invalid domain positions: 6P-191, ignore.\n",
      "D:\\Software\\Anaconda\\envs\\CATHpre\\lib\\site-packages\\ipykernel_launcher.py:54: UserWarning: Invalid domain positions: 103S-104S, ignore.\n",
      "D:\\Software\\Anaconda\\envs\\CATHpre\\lib\\site-packages\\ipykernel_launcher.py:54: UserWarning: Invalid domain positions: 1S-102S, ignore.\n",
      "D:\\Software\\Anaconda\\envs\\CATHpre\\lib\\site-packages\\ipykernel_launcher.py:54: UserWarning: Invalid domain positions: 408-416A, ignore.\n",
      "D:\\Software\\Anaconda\\envs\\CATHpre\\lib\\site-packages\\ipykernel_launcher.py:54: UserWarning: Invalid domain positions: 1Q-15, ignore.\n",
      "D:\\Software\\Anaconda\\envs\\CATHpre\\lib\\site-packages\\ipykernel_launcher.py:54: UserWarning: Invalid domain positions: 37P-8, ignore.\n",
      "D:\\Software\\Anaconda\\envs\\CATHpre\\lib\\site-packages\\ipykernel_launcher.py:54: UserWarning: Invalid domain positions: 5P-8, ignore.\n",
      "D:\\Software\\Anaconda\\envs\\CATHpre\\lib\\site-packages\\ipykernel_launcher.py:54: UserWarning: Invalid domain positions: 4P-8, ignore.\n",
      "D:\\Software\\Anaconda\\envs\\CATHpre\\lib\\site-packages\\ipykernel_launcher.py:54: UserWarning: Invalid domain positions: 10P-260, ignore.\n",
      "D:\\Software\\Anaconda\\envs\\CATHpre\\lib\\site-packages\\ipykernel_launcher.py:54: UserWarning: Invalid domain positions: 1P-220, ignore.\n",
      "D:\\Software\\Anaconda\\envs\\CATHpre\\lib\\site-packages\\ipykernel_launcher.py:54: UserWarning: Invalid domain positions: 1B-298, ignore.\n",
      "D:\\Software\\Anaconda\\envs\\CATHpre\\lib\\site-packages\\ipykernel_launcher.py:54: UserWarning: Invalid domain positions: 1P-215, ignore.\n",
      "D:\\Software\\Anaconda\\envs\\CATHpre\\lib\\site-packages\\ipykernel_launcher.py:54: UserWarning: Invalid domain positions: 1564-1705D, ignore.\n",
      "D:\\Software\\Anaconda\\envs\\CATHpre\\lib\\site-packages\\ipykernel_launcher.py:54: UserWarning: Invalid domain positions: 1706D-1816, ignore.\n",
      "D:\\Software\\Anaconda\\envs\\CATHpre\\lib\\site-packages\\ipykernel_launcher.py:54: UserWarning: Invalid domain positions: 6P-242, ignore.\n",
      "D:\\Software\\Anaconda\\envs\\CATHpre\\lib\\site-packages\\ipykernel_launcher.py:54: UserWarning: Invalid domain positions: 4P-242, ignore.\n",
      "D:\\Software\\Anaconda\\envs\\CATHpre\\lib\\site-packages\\ipykernel_launcher.py:54: UserWarning: Invalid domain positions: 0-122B, ignore.\n",
      "D:\\Software\\Anaconda\\envs\\CATHpre\\lib\\site-packages\\ipykernel_launcher.py:54: UserWarning: Invalid domain positions: 122G-256, ignore.\n",
      "D:\\Software\\Anaconda\\envs\\CATHpre\\lib\\site-packages\\ipykernel_launcher.py:54: UserWarning: Invalid domain positions: 122G-258, ignore.\n",
      "D:\\Software\\Anaconda\\envs\\CATHpre\\lib\\site-packages\\ipykernel_launcher.py:54: UserWarning: Invalid domain positions: 0A-261, ignore.\n",
      "D:\\Software\\Anaconda\\envs\\CATHpre\\lib\\site-packages\\ipykernel_launcher.py:54: UserWarning: Invalid domain positions: 2X-230, ignore.\n",
      "D:\\Software\\Anaconda\\envs\\CATHpre\\lib\\site-packages\\ipykernel_launcher.py:54: UserWarning: Invalid domain positions: 1A-63, ignore.\n",
      "D:\\Software\\Anaconda\\envs\\CATHpre\\lib\\site-packages\\ipykernel_launcher.py:54: UserWarning: Invalid domain positions: 1-212A, ignore.\n",
      "D:\\Software\\Anaconda\\envs\\CATHpre\\lib\\site-packages\\ipykernel_launcher.py:54: UserWarning: Invalid domain positions: 1A-223, ignore.\n",
      "D:\\Software\\Anaconda\\envs\\CATHpre\\lib\\site-packages\\ipykernel_launcher.py:54: UserWarning: Invalid domain positions: 1-106A, ignore.\n",
      "D:\\Software\\Anaconda\\envs\\CATHpre\\lib\\site-packages\\ipykernel_launcher.py:54: UserWarning: Invalid domain positions: 435A-553, ignore.\n",
      "D:\\Software\\Anaconda\\envs\\CATHpre\\lib\\site-packages\\ipykernel_launcher.py:54: UserWarning: Invalid domain positions: 1R-15, ignore.\n",
      "D:\\Software\\Anaconda\\envs\\CATHpre\\lib\\site-packages\\ipykernel_launcher.py:54: UserWarning: Invalid domain positions: 1S-15, ignore.\n",
      "D:\\Software\\Anaconda\\envs\\CATHpre\\lib\\site-packages\\ipykernel_launcher.py:54: UserWarning: Invalid domain positions: 1-71A, ignore.\n",
      "D:\\Software\\Anaconda\\envs\\CATHpre\\lib\\site-packages\\ipykernel_launcher.py:54: UserWarning: Invalid domain positions: 1R-14M, ignore.\n"
     ]
    },
    {
     "data": {
      "text/plain": "\"\\ndf_seq_label_test = df_seq_label_test[~df_label_test.sequence == '']\\ndf_struc_test = read_struc_file(df_label_test, 'dataset/test_structure.fasta')\\ndf_dis_test = read_dis_file(df_label_test, 'dataset/test_pdb_disorder.fasta')\\n\\n# combine seq and struc\\ndf_seq_label_struc_test = pd.merge(df_seq_label_test, df_struc_test, how='inner', on=['chain_id', 'domain_position'])# combine seq and dis\\ndf_seq_label_dis_test = pd.merge(df_seq_label_test, df_dis_test, how='inner', on=['chain_id', 'domain_position'])\\n\\n# combine seq, struc and dis\\ndf_seq_label_struc_dis_test = pd.merge(df_seq_label_struc_test, df_dis_test, how='inner', on=['chain_id', 'domain_position'])\\n\""
     },
     "execution_count": 6,
     "metadata": {},
     "output_type": "execute_result"
    }
   ],
   "source": [
    "# prepare training data\n",
    "df_label_train = read_process_label_file('dataset/training.tsv')\n",
    "df_seq_label_train, aas = read_combine_seq_file(df_label_train, 'dataset/training_sequences.fasta')\n",
    "df_seq_label_train = df_seq_label_train[df_seq_label_train.class_label != 6]  # exclude class 6 due to rare occurrence\n",
    "df_seq_label_train.reset_index(drop=True, inplace=True)\n",
    "'''\n",
    "df_struc_train = read_struc_file(df_label_train, 'dataset/training_structure.fasta')\n",
    "df_dis_train = read_dis_file(df_label_train, 'dataset/training_disorder.fasta')\n",
    "\n",
    "# combine seq and struc\n",
    "df_seq_label_struc_train = pd.merge(df_seq_label_train, df_struc_train, how='inner', on=['chain_id', 'domain_position'])\n",
    "\n",
    "# combine seq and dis\n",
    "df_seq_label_dis_train = pd.merge(df_seq_label_train, df_dis_train, how='inner', on=['chain_id', 'domain_position'])\n",
    "\n",
    "# combine seq, struc and dis\n",
    "df_seq_label_struc_dis_train = pd.merge(df_seq_label_struc_train, df_dis_train, how='inner', on=['chain_id', 'domain_position'])\n",
    "'''\n",
    "\n",
    "# prepare test data\n",
    "df_label_test = read_process_label_file('dataset/test.tsv')\n",
    "df_seq_label_test, _ = read_combine_seq_file(df_label_test, 'dataset/test_sequences.fasta')\n",
    "df_seq_label_test = df_seq_label_test[df_seq_label_test.class_label != 6]  # exclude class 6 due to rare occurrence\n",
    "df_seq_label_test.reset_index(drop=True, inplace=True)\n",
    "'''\n",
    "df_seq_label_test = df_seq_label_test[~df_label_test.sequence == '']\n",
    "df_struc_test = read_struc_file(df_label_test, 'dataset/test_structure.fasta')\n",
    "df_dis_test = read_dis_file(df_label_test, 'dataset/test_pdb_disorder.fasta')\n",
    "\n",
    "# combine seq and struc\n",
    "df_seq_label_struc_test = pd.merge(df_seq_label_test, df_struc_test, how='inner', on=['chain_id', 'domain_position'])# combine seq and dis\n",
    "df_seq_label_dis_test = pd.merge(df_seq_label_test, df_dis_test, how='inner', on=['chain_id', 'domain_position'])\n",
    "\n",
    "# combine seq, struc and dis\n",
    "df_seq_label_struc_dis_test = pd.merge(df_seq_label_struc_test, df_dis_test, how='inner', on=['chain_id', 'domain_position'])\n",
    "'''"
   ],
   "metadata": {
    "collapsed": false,
    "pycharm": {
     "name": "#%%\n"
    }
   }
  },
  {
   "cell_type": "markdown",
   "source": [
    "Investigate the sequence length to determine an appropriate length to pad/truncate sequences later."
   ],
   "metadata": {
    "collapsed": false,
    "pycharm": {
     "name": "#%% md\n"
    }
   }
  },
  {
   "cell_type": "code",
   "execution_count": 7,
   "outputs": [
    {
     "name": "stderr",
     "output_type": "stream",
     "text": [
      "D:\\Software\\Anaconda\\envs\\CATHpre\\lib\\site-packages\\seaborn\\distributions.py:2619: FutureWarning: `distplot` is a deprecated function and will be removed in a future version. Please adapt your code to use either `displot` (a figure-level function with similar flexibility) or `histplot` (an axes-level function for histograms).\n",
      "  warnings.warn(msg, FutureWarning)\n",
      "D:\\Software\\Anaconda\\envs\\CATHpre\\lib\\site-packages\\seaborn\\distributions.py:2619: FutureWarning: `distplot` is a deprecated function and will be removed in a future version. Please adapt your code to use either `displot` (a figure-level function with similar flexibility) or `histplot` (an axes-level function for histograms).\n",
      "  warnings.warn(msg, FutureWarning)\n"
     ]
    },
    {
     "data": {
      "text/plain": "<Figure size 432x288 with 1 Axes>",
      "image/png": "[encoded data removed]"
     },
     "metadata": {
      "needs_background": "light"
     },
     "output_type": "display_data"
    }
   ],
   "source": [
    "# Length of sequence in train data.\n",
    "df_seq_label_train['seq_char_count']= df_seq_label_train['sequence'].apply(lambda x: len(x))\n",
    "df_seq_label_test['seq_char_count']= df_seq_label_test['sequence'].apply(lambda x: len(x))\n",
    "\n",
    "def plot_seq_count(df, data_name):\n",
    "  sns.distplot(df['seq_char_count'].values, label=data_name)\n",
    "  plt.title('Count of fragments with different length')#('Sequence char count')\n",
    "  plt.xlabel('Fragment length')\n",
    "  plt.ylabel('Count (density)')\n",
    "  plt.grid(True)\n",
    "  plt.legend()\n",
    "\n",
    "plot_seq_count(df_seq_label_train, 'train')\n",
    "plot_seq_count(df_seq_label_test, 'test')\n",
    "plt.show()"
   ],
   "metadata": {
    "collapsed": false,
    "pycharm": {
     "name": "#%%\n"
    }
   }
  },
  {
   "cell_type": "markdown",
   "source": [
    "Define X, y."
   ],
   "metadata": {
    "collapsed": false,
    "pycharm": {
     "name": "#%% md\n"
    }
   }
  },
  {
   "cell_type": "code",
   "execution_count": 8,
   "outputs": [],
   "source": [
    "# use df_seq_label\n",
    "X_train = df_seq_label_train['sequence']\n",
    "#print(np.sum(X_train.isna()))  # test  #0\n",
    "y_train = df_seq_label_train['class_label']\n",
    "\n",
    "X_test = df_seq_label_test['sequence']\n",
    "y_test = df_seq_label_test['class_label']"
   ],
   "metadata": {
    "collapsed": false,
    "pycharm": {
     "name": "#%%\n"
    }
   }
  },
  {
   "cell_type": "markdown",
   "source": [
    "#### Data preprocessing\n",
    "Transform X, y in numeric form.\n"
   ],
   "metadata": {
    "collapsed": false
   }
  },
  {
   "cell_type": "code",
   "execution_count": 9,
   "outputs": [
    {
     "data": {
      "text/plain": "'\\n# convert single integer to one-hot encoded array\\naa_int_2_one_hot_array = {}\\nfor aa_int in aas_2_int.values():\\n    one_hot_list = [0 for i in range(len(aas_2_int))]\\n    one_hot_list[aa_int] = 1\\n    aa_int_2_one_hot_array[aa_int] = np.array(one_hot_list)\\n\\ndef encode_int_seq_to_one_hot(series):\\n    encoded_int_seq_list = []\\n    for int_seq in series.values:\\n        encoded_int_seq = []\\n        for aa_int in int_seq:\\n            encoded_int_seq.append(aa_int_2_one_hot_array.get(aa_int))\\n        encoded_int_seq_list.append(np.array(encoded_int_seq))\\n    return pd.Series(encoded_int_seq_list)\\n\\nX_train = encode_int_seq_to_one_hot(X_train)  # shape=(7893, 200, 24)\\nX_test = encode_int_seq_to_one_hot(X_test)\\n'"
     },
     "execution_count": 9,
     "metadata": {},
     "output_type": "execute_result"
    }
   ],
   "source": [
    "'''\n",
    "# transform label\n",
    "lb = LabelBinarizer()\n",
    "y_train = lb.fit_transform(y_train)\n",
    "y_test = lb.transform(y_test)\n",
    "\n",
    "# muticlass prediction version\n",
    "mlb = MultiLabelBinarizer()\n",
    "y_train = mlb.fit_transform(y_train)\n",
    "y_test = mlb.transform(y_test)\n",
    "'''\n",
    "\n",
    "# transform feature(s): sequence\n",
    "\n",
    "# concatenate data back together\n",
    "train_data = pd.concat([X_train, y_train], axis=1)\n",
    "test_data = pd.concat([X_test, y_test], axis=1)\n",
    "\n",
    "# pad/truncate sequences to a fixed length\n",
    "fixed_length = 400\n",
    "def pad_or_truncate_seq(seq):\n",
    "    if len(seq) > fixed_length:\n",
    "        seq = seq[:fixed_length]  # seq to long, truncate to fixed_length\n",
    "    if len(seq) <= fixed_length:\n",
    "        seq = seq.ljust(fixed_length, '-')  # seq to short, pad with '-' up to fixed_length\n",
    "    return seq\n",
    "\n",
    "train_data['sequence'] = train_data['sequence'].apply(lambda seq: pad_or_truncate_seq(seq))\n",
    "#print(np.sum(X_train.isna()))  # test  #0\n",
    "test_data['sequence'] = test_data['sequence'].apply(lambda seq: pad_or_truncate_seq(seq))\n",
    "\n",
    "# separate sequence string in single letters\n",
    "train_data['sequence'] = train_data['sequence'].apply(lambda seq: list(seq))  # split seq string into a list of characters\n",
    "#print(np.sum(X_train.isna()))  # test  #0\n",
    "test_data['sequence'] = test_data['sequence'].apply(lambda seq: list(seq))\n",
    "\n",
    "# convert single letter to single interger\n",
    "aas_2_int = {'-':0}\n",
    "for index, aa in enumerate(aas):\n",
    "    aas_2_int[aa] = index + 1\n",
    "'''\n",
    "def encode_seq_to_int(series):\n",
    "    # encode amino acid sequence to integer values. All AAs occurred in data are taken into consideration. All other letters (inclusive '-') are categorized as 0.\n",
    "    encoded_seq_list = []\n",
    "    for seq in series.values:\n",
    "        encoded_seq = []\n",
    "        for aa in seq:\n",
    "            encoded_seq.append(aas_2_int.get(aa, 0))\n",
    "        encoded_seq_list.append(np.array(encoded_seq))\n",
    "    return pd.Series(encoded_seq_list)\n",
    "    #return pd.DataFrame(encoded_seq_list)\n",
    "\n",
    "train_data['sequence'] = encode_seq_to_int(train_data['sequence'])\n",
    "#print(np.sum(X_train.isna()))  # test  #0\n",
    "test_data['sequence'] = encode_seq_to_int(test_data['sequence'])\n",
    "'''\n",
    "def encode_seq_to_int(seq):\n",
    "    # encode amino acid sequence to integer values. All AAs occurred in data are taken into consideration. All other letters (inclusive '-') are categorized as 0.\n",
    "    encoded_seq = []\n",
    "    for aa in seq:\n",
    "        encoded_seq.append(aas_2_int.get(aa, 0))\n",
    "    return np.array(encoded_seq)\n",
    "\n",
    "train_data['sequence'] = train_data['sequence'].apply(lambda seq: encode_seq_to_int(seq))\n",
    "test_data['sequence'] = test_data['sequence'].apply(lambda seq: encode_seq_to_int(seq))\n",
    "\n",
    "# separate X, y\n",
    "X_train = train_data['sequence']\n",
    "X_train = pd.DataFrame(X_train.to_list())\n",
    "y_train = train_data['class_label']\n",
    "\n",
    "X_test = test_data['sequence']\n",
    "X_test = pd.DataFrame(X_test.to_list())\n",
    "y_test = test_data['class_label']\n",
    "\n",
    "'''\n",
    "# convert single integer to one-hot encoded array\n",
    "aa_int_2_one_hot_array = {}\n",
    "for aa_int in aas_2_int.values():\n",
    "    one_hot_list = [0 for i in range(len(aas_2_int))]\n",
    "    one_hot_list[aa_int] = 1\n",
    "    aa_int_2_one_hot_array[aa_int] = np.array(one_hot_list)\n",
    "\n",
    "def encode_int_seq_to_one_hot(series):\n",
    "    encoded_int_seq_list = []\n",
    "    for int_seq in series.values:\n",
    "        encoded_int_seq = []\n",
    "        for aa_int in int_seq:\n",
    "            encoded_int_seq.append(aa_int_2_one_hot_array.get(aa_int))\n",
    "        encoded_int_seq_list.append(np.array(encoded_int_seq))\n",
    "    return pd.Series(encoded_int_seq_list)\n",
    "\n",
    "X_train = encode_int_seq_to_one_hot(X_train)  # shape=(7893, 200, 24)\n",
    "X_test = encode_int_seq_to_one_hot(X_test)\n",
    "'''"
   ],
   "metadata": {
    "collapsed": false,
    "pycharm": {
     "name": "#%%\n"
    }
   }
  },
  {
   "cell_type": "markdown",
   "source": [
    "Transform X, y in one-hot encoded form. (skip, do it later)"
   ],
   "metadata": {
    "collapsed": false,
    "pycharm": {
     "name": "#%% md\n"
    }
   }
  },
  {
   "cell_type": "code",
   "execution_count": 7,
   "outputs": [],
   "source": [
    "'''\n",
    "categories_one_col = list(aas_2_int.values())\n",
    "categories = [categories_one_col for i in range(fixed_length)]\n",
    "\n",
    "enc = OneHotEncoder(handle_unknown='error', categories=categories)\n",
    "X_train = pd.DataFrame(enc.fit_transform(X_train).toarray())\n",
    "X_test = pd.DataFrame(enc.fit_transform(X_test).toarray())\n",
    "'''"
   ],
   "metadata": {
    "collapsed": false,
    "pycharm": {
     "name": "#%%\n"
    }
   }
  },
  {
   "cell_type": "markdown",
   "source": [
    "Perform data standardization and Principal Component Analysis. (Note: Using the stats of training set to standardize testing set, same procedure for PCA.)"
   ],
   "metadata": {
    "collapsed": false,
    "pycharm": {
     "name": "#%% md\n"
    }
   }
  },
  {
   "cell_type": "code",
   "execution_count": null,
   "outputs": [],
   "source": [
    "# z-score normalization\n",
    "scaler = StandardScaler()\n",
    "X_train = pd.DataFrame(scaler.fit_transform(X_train))\n",
    "X_test = pd.DataFrame(scaler.transform(X_test))\n",
    "\n",
    "# principal component analysis, explained variance 99%)\n",
    "pca = PCA(n_components=0.99, random_state=0)\n",
    "X_train = pd.DataFrame(pca.fit_transform(X_train))\n",
    "X_test = pd.DataFrame(pca.transform(X_test))\n",
    "print(f'PCA: n_components_={pca.n_components_}\\n')"
   ],
   "metadata": {
    "collapsed": false,
    "pycharm": {
     "name": "#%%\n"
    }
   }
  },
  {
   "cell_type": "markdown",
   "source": [
    "Handle data imbalance using over-/undersampling only on training dataset. Upsampling the minority class."
   ],
   "metadata": {
    "collapsed": false
   }
  },
  {
   "cell_type": "code",
   "execution_count": 10,
   "outputs": [
    {
     "name": "stdout",
     "output_type": "stream",
     "text": [
      "3    4011\n",
      "1    2506\n",
      "2    1320\n",
      "4     155\n",
      "Name: class_label, dtype: int64\n"
     ]
    },
    {
     "data": {
      "text/plain": "<Figure size 432x288 with 1 Axes>",
      "image/png": "[encoded data removed]"
     },
     "metadata": {
      "needs_background": "light"
     },
     "output_type": "display_data"
    },
    {
     "name": "stdout",
     "output_type": "stream",
     "text": [
      "1    4011\n",
      "2    4011\n",
      "3    4011\n",
      "4    4011\n",
      "Name: class_label, dtype: int64\n"
     ]
    },
    {
     "data": {
      "text/plain": "<Figure size 432x288 with 1 Axes>",
      "image/png": "[encoded data removed]"
     },
     "metadata": {
      "needs_background": "light"
     },
     "output_type": "display_data"
    }
   ],
   "source": [
    "# concatenate training data back together\n",
    "X = pd.concat([X_train, y_train], axis=1)\n",
    "#print(np.sum(X.isna()))  # test  #0\n",
    "\n",
    "# determine the majority class and the number of samples in this class\n",
    "print(X['class_label'].value_counts())\n",
    "X['class_label'].value_counts(sort=True).plot.bar()\n",
    "plt.title('Class label distribution before oversampling')\n",
    "plt.ylabel('Count')\n",
    "plt.xticks(rotation='horizontal')\n",
    "plt.show()\n",
    "\n",
    "# separate different classes\n",
    "X_1 = X[X.class_label == 1]\n",
    "X_2 = X[X.class_label == 2]\n",
    "X_3 = X[X.class_label == 3]\n",
    "X_4 = X[X.class_label == 4]\n",
    "\n",
    "# upsample other 3 classes to the majority class\n",
    "X_1_up = resample(X_1, replace=True, n_samples=4011, random_state=0)\n",
    "#X_1_up = X_1_up.fillna(method='ffill', axis=0)  # fill NaN gaps forwardly (use last observation)\n",
    "#X_1_up = X_1_up.dropna()\n",
    "X_2_up = resample(X_2, replace=True, n_samples=4011, random_state=0)\n",
    "#X_2_up = X_2_up.fillna(method='ffill', axis=0)\n",
    "#X_2_up = X_2_up.dropna()\n",
    "X_4_up = resample(X_4, replace=True, n_samples=4011, random_state=0)\n",
    "#X_4_up = X_4_up.fillna(method='ffill', axis=0)\n",
    "#X_4_up = X_4_up.dropna()\n",
    "\n",
    "X_up = pd.concat([X_1_up, X_2_up, X_3, X_4_up], axis=0)\n",
    "\n",
    "print(X_up['class_label'].value_counts())\n",
    "X_up['class_label'].value_counts().plot(kind='bar')\n",
    "plt.title('Class label distribution after oversampling')\n",
    "plt.ylabel('Count')\n",
    "plt.xticks(rotation='horizontal')\n",
    "plt.show()\n",
    "\n",
    "# shuffle rows in X_up and reset index afterwords\n",
    "X_up = shuffle(X_up, random_state=0)\n",
    "X_up = X_up.reset_index(drop=True)\n",
    "\n",
    "# split X_up in train and test set\n",
    "X_train_up = X_up.drop('class_label', axis=1)\n",
    "y_train_up = X_up['class_label']"
   ],
   "metadata": {
    "collapsed": false,
    "pycharm": {
     "name": "#%%\n"
    }
   }
  },
  {
   "cell_type": "markdown",
   "source": [
    "Add group label to over-sampeled data set, a sample that appears multiple times is a group."
   ],
   "metadata": {
    "collapsed": false
   }
  },
  {
   "cell_type": "code",
   "execution_count": 11,
   "outputs": [],
   "source": [
    "X_up_tmp_1 = X_up.transform(tuple, 1)#.to_frame()\n",
    "X_up_tmp_2 = X_up_tmp_1.groupby(0).sum()\n",
    "X_up_tmp_2['group'] = range(1, len(X_up_tmp_2)+1)\n",
    "\n",
    "X_up['tmp_key'] = X_up_tmp_1[0]\n",
    "X_up = X_up.set_index('tmp_key')\n",
    "#X_up.drop(labels='tmp_key', axis=1)\n",
    "X_up['group'] = X_up_tmp_2.group\n",
    "X_up.reset_index(drop=True, inplace=True)"
   ],
   "metadata": {
    "collapsed": false,
    "pycharm": {
     "name": "#%%\n"
    }
   }
  },
  {
   "cell_type": "markdown",
   "source": [
    "Transform X in one-hot encoded form."
   ],
   "metadata": {
    "collapsed": false
   }
  },
  {
   "cell_type": "code",
   "execution_count": 12,
   "outputs": [],
   "source": [
    "X_train_up = X_up.drop(['class_label', 'group'], axis=1)\n",
    "y_train_up = X_up['class_label']\n",
    "\n",
    "categories_one_col = list(aas_2_int.values())\n",
    "categories = [categories_one_col for i in range(fixed_length)]\n",
    "\n",
    "enc = OneHotEncoder(handle_unknown='error', categories=categories)\n",
    "X_train_up = pd.DataFrame(enc.fit_transform(X_train_up).toarray())\n",
    "X_test = pd.DataFrame(enc.fit_transform(X_test).toarray())"
   ],
   "metadata": {
    "collapsed": false,
    "pycharm": {
     "name": "#%%\n"
    }
   }
  },
  {
   "cell_type": "markdown",
   "source": [
    "Downsapling the majority classes."
   ],
   "metadata": {
    "collapsed": false,
    "pycharm": {
     "name": "#%% md\n"
    }
   }
  },
  {
   "cell_type": "code",
   "execution_count": 19,
   "outputs": [
    {
     "name": "stdout",
     "output_type": "stream",
     "text": [
      "1    155\n",
      "2    155\n",
      "3    155\n",
      "4    155\n",
      "Name: class_label, dtype: int64\n"
     ]
    },
    {
     "data": {
      "text/plain": "<Figure size 432x288 with 1 Axes>",
      "image/png": "[encoded data removed]"
     },
     "metadata": {
      "needs_background": "light"
     },
     "output_type": "display_data"
    }
   ],
   "source": [
    "# downsample other 3 classes to the minority class,\n",
    "X_1_down = resample(X_1, replace=False, n_samples=155, random_state=0)\n",
    "X_2_down = resample(X_2, replace=False, n_samples=155, random_state=0)\n",
    "X_3_down = resample(X_3, replace=False, n_samples=155, random_state=0)\n",
    "\n",
    "X_down = pd.concat([X_1_down, X_2_down, X_3_down, X_4], axis=0)\n",
    "\n",
    "print(X_down['class_label'].value_counts())\n",
    "X_down['class_label'].value_counts().plot(kind='bar')\n",
    "plt.show()\n",
    "\n",
    "# shuffle rows in X_up and reset index afterwords\n",
    "X_down = shuffle(X_down, random_state=0)\n",
    "X_down = X_down.reset_index(drop=True)\n",
    "\n",
    "# split X_up in train and test set\n",
    "X_train_down = X_down.drop('class_label', axis=1)\n",
    "y_train_down = X_down['class_label']"
   ],
   "metadata": {
    "collapsed": false,
    "pycharm": {
     "name": "#%%\n"
    }
   }
  },
  {
   "cell_type": "markdown",
   "source": [
    "#### Baseline models\n",
    "Build baseline models using Zero Rule, stratified and random algorithm."
   ],
   "metadata": {
    "collapsed": false
   }
  },
  {
   "cell_type": "code",
   "execution_count": 11,
   "outputs": [
    {
     "name": "stdout",
     "output_type": "stream",
     "text": [
      "--------------zeroR---------------\n",
      "Accuracy score of baseline_zeroR model: 0.48623853211009177\n",
      "AUC score: 0.5\n",
      "Accuracy score of baseline_zeroR model trained on upsampled data: 0.1811926605504587\n",
      "AUC score: 0.5\n"
     ]
    },
    {
     "data": {
      "text/plain": "<Figure size 432x288 with 1 Axes>",
      "image/png": "[encoded data removed]"
     },
     "metadata": {
      "needs_background": "light"
     },
     "output_type": "display_data"
    }
   ],
   "source": [
    "# zero rule algorithm for classification: predict the class value that is most common in the training dataset\n",
    "'''\n",
    "def zero_rule_classifier(y_train, X_test):\n",
    "    train_labels = y_train.tolist()\n",
    "    test_prediction = max(set(train_labels), key=train_labels.count)\n",
    "    test_results = [test_prediction for i in range(len(X_test))]\n",
    "    return test_results\n",
    "\n",
    "zero_rule_pred = zero_rule_classifier(y_train, X_test)\n",
    "'''\n",
    "print('--------------zeroR---------------')\n",
    "baseline_zeroR = DummyClassifier(strategy=\"most_frequent\")\n",
    "baseline_zeroR.fit(X_train, y_train)\n",
    "#print(baseline_zeroR.predict(X_test))  # test\n",
    "zeroR_acc_score = baseline_zeroR.score(X_test, y_test)  # 0.48\n",
    "print(f'Accuracy score of baseline_zeroR model: {zeroR_acc_score}')\n",
    "#print(classification_report(y_test, baseline_zeroR.predict(y_test)))\n",
    "zeroR_auc_score = roc_auc_score(y_test, baseline_zeroR.predict_proba(X_test), average='macro', multi_class='ovo')#average='weighted', because of imbalanced data\n",
    "print(f'AUC score: {zeroR_auc_score}')\n",
    "\n",
    "# using upsampled data\n",
    "baseline_zeroR.fit(X_train_up, y_train_up)\n",
    "#print(baseline_zeroR.predict(X_test))  # test\n",
    "zeroR_acc_score_up = baseline_zeroR.score(X_test, y_test)  # 0.18\n",
    "print(f'Accuracy score of baseline_zeroR model trained on upsampled data: {zeroR_acc_score_up}')\n",
    "#print(classification_report(y_test, baseline_zeroR.predict(y_test)))\n",
    "zeroR_auc_score_up = roc_auc_score(y_test, baseline_zeroR.predict_proba(X_test), average='macro', multi_class='ovo')\n",
    "print(f'AUC score: {zeroR_auc_score_up}')\n",
    "'''\n",
    "# using downsampled data\n",
    "baseline_zeroR.fit(X_train_down, y_train_down)\n",
    "zeroR_acc_score_down = baseline_zeroR.score(X_test, y_test)  #\n",
    "print(f'Accuracy score of baseline_zeroR model trained on downsampled data: {zeroR_acc_score_down}')\n",
    "#print(classification_report(y_test, baseline_zeroR.predict(y_test)))\n",
    "zeroR_auc_score = roc_auc_score(y_test, baseline_zeroR.predict_proba(X_test), average='macro', multi_class='ovo')\n",
    "print(f'AUC score: {zeroR_auc_score}')\n",
    "'''\n",
    "\n",
    "# plot the result\n",
    "labels = ['imbalanced data', 'oversampled data']\n",
    "acc_scores = [zeroR_acc_score, zeroR_acc_score_up]\n",
    "auc_scores = [zeroR_auc_score, zeroR_auc_score_up]\n",
    "x = np.arange(len(labels))  # the label locations\n",
    "width = 0.2  # the width of the bars\n",
    "fig, ax = plt.subplots()\n",
    "ax.bar(x - width/2, acc_scores, width, label='Accuracy')\n",
    "ax.bar(x + width/2, auc_scores, width, label='AUC')\n",
    "ax.set_ylabel('Performance')\n",
    "ax.set_title('Zero Rule model')\n",
    "ax.set_xticks(x)\n",
    "ax.set_xticklabels(labels)\n",
    "ax.legend()\n",
    "fig.tight_layout()\n",
    "plt.show()"
   ],
   "metadata": {
    "collapsed": false,
    "pycharm": {
     "name": "#%%\n"
    }
   }
  },
  {
   "cell_type": "code",
   "execution_count": 12,
   "outputs": [
    {
     "name": "stdout",
     "output_type": "stream",
     "text": [
      "--------------stratified---------------\n",
      "Accuracy score of baseline_stratified model: 0.3577981651376147\n",
      "AUC score: 0.5055798506209407\n",
      "Accuracy score of baseline_stratified model trained on upsampled data: 0.23853211009174313\n",
      "AUC score: 0.5198474873275352\n"
     ]
    },
    {
     "data": {
      "text/plain": "<Figure size 432x288 with 1 Axes>",
      "image/png": "[encoded data removed]"
     },
     "metadata": {
      "needs_background": "light"
     },
     "output_type": "display_data"
    }
   ],
   "source": [
    "# “stratified”: generates predictions by respecting the training set’s class distribution.\n",
    "print('--------------stratified---------------')\n",
    "baseline_stratified = DummyClassifier(strategy=\"stratified\", random_state=0)\n",
    "baseline_stratified.fit(X_train, y_train)\n",
    "stratified_acc_score = baseline_stratified.score(X_test, y_test)  # 0.37\n",
    "print(f'Accuracy score of baseline_stratified model: {stratified_acc_score}')\n",
    "#print(classification_report(y_test, baseline_stratified.predict(y_test)))\n",
    "stratified_auc_score = roc_auc_score(y_test, baseline_stratified.predict_proba(X_test), average='macro', multi_class='ovo')#average='weighted', because of imbalanced data\n",
    "print(f'AUC score: {stratified_auc_score}')\n",
    "# using upsampled data\n",
    "baseline_stratified.fit(X_train_up, y_train_up)\n",
    "stratified_acc_score_up = baseline_stratified.score(X_test, y_test)  # 0.23\n",
    "print(f'Accuracy score of baseline_stratified model trained on upsampled data: {stratified_acc_score_up}')\n",
    "#print(classification_report(y_test, baseline_stratified.predict(y_test)))\n",
    "stratified_auc_score_up = roc_auc_score(y_test, baseline_stratified.predict_proba(X_test), average='macro', multi_class='ovo')\n",
    "print(f'AUC score: {stratified_auc_score_up}')\n",
    "'''\n",
    "# using downsampled data\n",
    "baseline_stratified.fit(X_train_down, y_train_down)\n",
    "stratified_acc_score_down = baseline_stratified.score(X_test, y_test)  #\n",
    "print(f'Accuracy score of baseline_stratified model trained on downsampled data: {stratified_acc_score_down}')\n",
    "#print(classification_report(y_test, baseline_stratified.predict(y_test)))\n",
    "stratified_auc_score = roc_auc_score(y_test, baseline_stratified.predict_proba(X_test), average='macro', multi_class='ovo')\n",
    "print(f'AUC score: {stratified_auc_score}')\n",
    "'''\n",
    "\n",
    "# plot the result\n",
    "labels = ['imbalanced data', 'oversampled data']\n",
    "acc_scores = [stratified_acc_score, stratified_acc_score_up]\n",
    "auc_scores = [stratified_auc_score, stratified_auc_score_up]\n",
    "x = np.arange(len(labels))  # the label locations\n",
    "width = 0.2  # the width of the bars\n",
    "fig, ax = plt.subplots()\n",
    "ax.bar(x - width/2, acc_scores, width, label='Accuracy')\n",
    "ax.bar(x + width/2, auc_scores, width, label='AUC')\n",
    "ax.set_ylabel('Performance')\n",
    "ax.set_title('Stratified model')\n",
    "ax.set_xticks(x)\n",
    "ax.set_xticklabels(labels)\n",
    "ax.legend()\n",
    "fig.tight_layout()\n",
    "plt.show()"
   ],
   "metadata": {
    "collapsed": false,
    "pycharm": {
     "name": "#%%\n"
    }
   }
  },
  {
   "cell_type": "code",
   "execution_count": 13,
   "outputs": [
    {
     "name": "stdout",
     "output_type": "stream",
     "text": [
      "--------------random---------------\n",
      "Accuracy score of baseline_randm model: 0.2408256880733945\n",
      "AUC score: 0.5\n",
      "Accuracy score of baseline_random model trained on upsampled data: 0.2408256880733945\n",
      "AUC score: 0.5\n"
     ]
    },
    {
     "data": {
      "text/plain": "<Figure size 432x288 with 1 Axes>",
      "image/png": "[encoded data removed]"
     },
     "metadata": {
      "needs_background": "light"
     },
     "output_type": "display_data"
    }
   ],
   "source": [
    "# “uniform”: generates predictions uniformly at random.\n",
    "print('--------------random---------------')\n",
    "baseline_random = DummyClassifier(strategy=\"uniform\", random_state=0)\n",
    "baseline_random.fit(X_train, y_train)\n",
    "random_acc_score = baseline_random.score(X_test, y_test)  # 0.24\n",
    "print(f'Accuracy score of baseline_randm model: {random_acc_score}')\n",
    "#print(classification_report(y_test, baseline_random.predict(y_test)))\n",
    "random_auc_score = roc_auc_score(y_test, baseline_random.predict_proba(X_test), average='macro', multi_class='ovo')#average='weighted', because of imbalanced data\n",
    "print(f'AUC score: {random_auc_score}')\n",
    "# using upsampled data\n",
    "baseline_random.fit(X_train_up, y_train_up)\n",
    "random_acc_score_up = baseline_random.score(X_test, y_test)  # 0.24\n",
    "print(f'Accuracy score of baseline_random model trained on upsampled data: {random_acc_score_up}')\n",
    "#print(classification_report(y_test, baseline_random.predict(y_test)))\n",
    "random_auc_score_up = roc_auc_score(y_test, baseline_random.predict_proba(X_test), average='macro', multi_class='ovo')\n",
    "print(f'AUC score: {random_auc_score_up}')\n",
    "'''\n",
    "# using downsampled data\n",
    "baseline_random.fit(X_train_down, y_train_down)\n",
    "random_acc_score_down = baseline_random.score(X_test, y_test)  #\n",
    "print(f'Accuracy score of baseline_random model trained on downsampled data: {random_acc_score_down}')\n",
    "#print(classification_report(y_test, baseline_random.predict(y_test)))\n",
    "random_auc_score = roc_auc_score(y_test, baseline_random.predict_proba(X_test), average='macro', multi_class='ovo')\n",
    "print(f'AUC score: {random_auc_score}')\n",
    "'''\n",
    "\n",
    "# plot the result\n",
    "labels = ['imbalanced data', 'oversampled data']\n",
    "acc_scores = [random_acc_score, random_acc_score_up]\n",
    "auc_scores = [random_auc_score, random_auc_score_up]\n",
    "x = np.arange(len(labels))  # the label locations\n",
    "width = 0.2  # the width of the bars\n",
    "fig, ax = plt.subplots()\n",
    "ax.bar(x - width/2, acc_scores, width, label='Accuracy')\n",
    "ax.bar(x + width/2, auc_scores, width, label='AUC')\n",
    "ax.set_ylabel('Performance')\n",
    "ax.set_title('Random model')\n",
    "ax.set_xticks(x)\n",
    "ax.set_xticklabels(labels)\n",
    "ax.legend()\n",
    "fig.tight_layout()\n",
    "plt.show()"
   ],
   "metadata": {
    "collapsed": false,
    "pycharm": {
     "name": "#%%\n"
    }
   }
  },
  {
   "cell_type": "code",
   "execution_count": 14,
   "outputs": [
    {
     "data": {
      "text/plain": "<Figure size 432x288 with 1 Axes>",
      "image/png": "[encoded data removed]"
     },
     "metadata": {
      "needs_background": "light"
     },
     "output_type": "display_data"
    },
    {
     "data": {
      "text/plain": "<Figure size 432x288 with 1 Axes>",
      "image/png": "[encoded data removed]"
     },
     "metadata": {
      "needs_background": "light"
     },
     "output_type": "display_data"
    }
   ],
   "source": [
    "# plot results from 3 baselines, only use scores based on oversampled data\n",
    "labels = ['Zero Rule', 'Stratified', 'Random']\n",
    "acc_scores = [zeroR_acc_score_up, stratified_acc_score_up, random_acc_score_up]\n",
    "auc_scores = [zeroR_auc_score_up, stratified_auc_score_up, random_auc_score_up]\n",
    "x = np.arange(len(labels))  # the label locations\n",
    "width = 0.2  # the width of the bars\n",
    "fig, ax = plt.subplots()\n",
    "ax.bar(x - width/2, acc_scores, width, label='Accuracy')\n",
    "ax.bar(x + width/2, auc_scores, width, label='AUC')\n",
    "ax.set_ylabel('Performance')\n",
    "ax.set_title('Performance of 3 baseline models (on balanced data)')\n",
    "ax.set_xticks(x)\n",
    "ax.set_xticklabels(labels)\n",
    "ax.legend()\n",
    "fig.tight_layout()\n",
    "plt.show()\n",
    "\n",
    "# plot the result\n",
    "labels = ['Imbalanced data', 'Oversampled data']\n",
    "zeroR_acc_scores = [zeroR_acc_score, zeroR_acc_score_up]\n",
    "stratified_acc_scores = [stratified_acc_score, stratified_acc_score_up]\n",
    "random_acc_scores = [random_acc_score, random_acc_score_up]\n",
    "x = np.arange(len(labels))  # the label locations\n",
    "width = 0.1  # the width of the bars\n",
    "fig, ax = plt.subplots()\n",
    "ax.bar(x - 2*(width/2), zeroR_acc_scores, width, label='Zero Rule', color='skyblue')\n",
    "ax.bar(x + 0*(width/2), stratified_acc_scores, width, label='Stratified', color='gold')\n",
    "ax.bar(x + 2*(width/2), random_acc_scores, width, label='Random', color='plum')\n",
    "ax.set_ylabel('Accuracy')\n",
    "ax.set_title('Accuracy of 3 baseline models')\n",
    "ax.set_xticks(x)\n",
    "ax.set_xticklabels(labels)\n",
    "ax.legend()\n",
    "fig.tight_layout()\n",
    "plt.show()"
   ],
   "metadata": {
    "collapsed": false,
    "pycharm": {
     "name": "#%%\n"
    }
   }
  },
  {
   "cell_type": "markdown",
   "source": [
    "#### Neural network\n",
    "Model selection using 5-fold cross validation, inclusive hyperparameter tuning."
   ],
   "metadata": {
    "collapsed": false
   }
  },
  {
   "cell_type": "code",
   "execution_count": 15,
   "outputs": [
    {
     "name": "stdout",
     "output_type": "stream",
     "text": [
      "Fitting 5 folds for each of 6 candidates, totalling 30 fits\n",
      "[CV 1/5] END hidden_layer_sizes=(50, 50, 50), learning_rate_init=0.01; AUC: (train=0.996, test=0.658) Accuracy: (train=0.979, test=0.460) F1: (train=0.978, test=0.353) total time=  55.4s\n",
      "[CV 2/5] END hidden_layer_sizes=(50, 50, 50), learning_rate_init=0.01; AUC: (train=0.994, test=0.656) Accuracy: (train=0.965, test=0.342) F1: (train=0.965, test=0.284) total time=  33.1s\n",
      "[CV 3/5] END hidden_layer_sizes=(50, 50, 50), learning_rate_init=0.01; AUC: (train=0.996, test=0.669) Accuracy: (train=0.982, test=0.347) F1: (train=0.982, test=0.303) total time= 1.1min\n",
      "[CV 4/5] END hidden_layer_sizes=(50, 50, 50), learning_rate_init=0.01; AUC: (train=0.996, test=0.698) Accuracy: (train=0.981, test=0.351) F1: (train=0.982, test=0.322) total time=  39.3s\n",
      "[CV 5/5] END hidden_layer_sizes=(50, 50, 50), learning_rate_init=0.01; AUC: (train=0.996, test=0.682) Accuracy: (train=0.977, test=0.424) F1: (train=0.976, test=0.364) total time=  36.8s\n",
      "[CV 1/5] END hidden_layer_sizes=(50, 50, 50), learning_rate_init=0.001; AUC: (train=0.997, test=0.656) Accuracy: (train=0.982, test=0.478) F1: (train=0.982, test=0.364) total time=  52.2s\n",
      "[CV 2/5] END hidden_layer_sizes=(50, 50, 50), learning_rate_init=0.001; AUC: (train=0.997, test=0.647) Accuracy: (train=0.980, test=0.357) F1: (train=0.980, test=0.317) total time=  31.8s\n",
      "[CV 3/5] END hidden_layer_sizes=(50, 50, 50), learning_rate_init=0.001; AUC: (train=0.997, test=0.700) Accuracy: (train=0.987, test=0.354) F1: (train=0.987, test=0.317) total time=  57.7s\n",
      "[CV 4/5] END hidden_layer_sizes=(50, 50, 50), learning_rate_init=0.001; AUC: (train=0.997, test=0.692) Accuracy: (train=0.985, test=0.354) F1: (train=0.986, test=0.323) total time=  45.7s\n",
      "[CV 5/5] END hidden_layer_sizes=(50, 50, 50), learning_rate_init=0.001; AUC: (train=0.997, test=0.698) Accuracy: (train=0.977, test=0.407) F1: (train=0.976, test=0.346) total time=  36.1s\n",
      "[CV 1/5] END hidden_layer_sizes=(100, 100), learning_rate_init=0.01; AUC: (train=0.996, test=0.634) Accuracy: (train=0.982, test=0.489) F1: (train=0.982, test=0.375) total time= 1.8min\n",
      "[CV 2/5] END hidden_layer_sizes=(100, 100), learning_rate_init=0.01; AUC: (train=0.997, test=0.668) Accuracy: (train=0.977, test=0.335) F1: (train=0.977, test=0.277) total time=  44.7s\n",
      "[CV 3/5] END hidden_layer_sizes=(100, 100), learning_rate_init=0.01; AUC: (train=0.998, test=0.698) Accuracy: (train=0.982, test=0.340) F1: (train=0.982, test=0.310) total time= 1.0min\n",
      "[CV 4/5] END hidden_layer_sizes=(100, 100), learning_rate_init=0.01; AUC: (train=0.997, test=0.706) Accuracy: (train=0.980, test=0.345) F1: (train=0.981, test=0.316) total time=  49.4s\n",
      "[CV 5/5] END hidden_layer_sizes=(100, 100), learning_rate_init=0.01; AUC: (train=0.995, test=0.705) Accuracy: (train=0.958, test=0.427) F1: (train=0.956, test=0.368) total time=  44.8s\n",
      "[CV 1/5] END hidden_layer_sizes=(100, 100), learning_rate_init=0.001; AUC: (train=0.996, test=0.660) Accuracy: (train=0.985, test=0.480) F1: (train=0.985, test=0.370) total time= 1.7min\n",
      "[CV 2/5] END hidden_layer_sizes=(100, 100), learning_rate_init=0.001; AUC: (train=0.997, test=0.675) Accuracy: (train=0.969, test=0.368) F1: (train=0.969, test=0.333) total time=  43.1s\n",
      "[CV 3/5] END hidden_layer_sizes=(100, 100), learning_rate_init=0.001; AUC: (train=0.997, test=0.721) Accuracy: (train=0.967, test=0.348) F1: (train=0.968, test=0.309) total time=  50.6s\n",
      "[CV 4/5] END hidden_layer_sizes=(100, 100), learning_rate_init=0.001; AUC: (train=0.997, test=0.711) Accuracy: (train=0.987, test=0.354) F1: (train=0.988, test=0.325) total time= 1.4min\n",
      "[CV 5/5] END hidden_layer_sizes=(100, 100), learning_rate_init=0.001; AUC: (train=0.997, test=0.707) Accuracy: (train=0.970, test=0.438) F1: (train=0.969, test=0.379) total time=  53.8s\n",
      "[CV 1/5] END hidden_layer_sizes=(100, 100, 100), learning_rate_init=0.01; AUC: (train=0.997, test=0.630) Accuracy: (train=0.985, test=0.471) F1: (train=0.985, test=0.358) total time= 1.8min\n",
      "[CV 2/5] END hidden_layer_sizes=(100, 100, 100), learning_rate_init=0.01; AUC: (train=0.997, test=0.632) Accuracy: (train=0.978, test=0.333) F1: (train=0.978, test=0.270) total time= 1.4min\n",
      "[CV 3/5] END hidden_layer_sizes=(100, 100, 100), learning_rate_init=0.01; AUC: (train=0.997, test=0.669) Accuracy: (train=0.984, test=0.365) F1: (train=0.984, test=0.316) total time= 1.8min\n",
      "[CV 4/5] END hidden_layer_sizes=(100, 100, 100), learning_rate_init=0.01; AUC: (train=0.995, test=0.701) Accuracy: (train=0.966, test=0.337) F1: (train=0.967, test=0.308) total time=  42.8s\n",
      "[CV 5/5] END hidden_layer_sizes=(100, 100, 100), learning_rate_init=0.01; AUC: (train=0.996, test=0.682) Accuracy: (train=0.978, test=0.408) F1: (train=0.978, test=0.344) total time= 1.5min\n",
      "[CV 1/5] END hidden_layer_sizes=(100, 100, 100), learning_rate_init=0.001; AUC: (train=0.998, test=0.684) Accuracy: (train=0.987, test=0.507) F1: (train=0.987, test=0.392) total time= 1.4min\n",
      "[CV 2/5] END hidden_layer_sizes=(100, 100, 100), learning_rate_init=0.001; AUC: (train=0.997, test=0.657) Accuracy: (train=0.988, test=0.340) F1: (train=0.988, test=0.295) total time= 1.1min\n",
      "[CV 3/5] END hidden_layer_sizes=(100, 100, 100), learning_rate_init=0.001; AUC: (train=0.996, test=0.711) Accuracy: (train=0.985, test=0.356) F1: (train=0.985, test=0.328) total time= 1.3min\n",
      "[CV 4/5] END hidden_layer_sizes=(100, 100, 100), learning_rate_init=0.001; AUC: (train=0.997, test=0.700) Accuracy: (train=0.984, test=0.338) F1: (train=0.985, test=0.302) total time= 1.3min\n",
      "[CV 5/5] END hidden_layer_sizes=(100, 100, 100), learning_rate_init=0.001; AUC: (train=0.997, test=0.705) Accuracy: (train=0.982, test=0.416) F1: (train=0.981, test=0.352) total time=  58.3s\n"
     ]
    },
    {
     "data": {
      "text/plain": "GridSearchCV(cv=StratifiedGroupKFold(n_splits=5, random_state=0, shuffle=True),\n             estimator=MLPClassifier(early_stopping=True, max_iter=100,\n                                     n_iter_no_change=5, random_state=0),\n             param_grid={'hidden_layer_sizes': [(50, 50, 50), (100, 100),\n                                                (100, 100, 100)],\n                         'learning_rate_init': [0.01, 0.001]},\n             refit='AUC', return_train_score=True,\n             scoring={'AUC': 'roc_auc_ovo', 'Accuracy': 'accuracy',\n                      'F1': 'f1_macro'},\n             verbose=3)"
     },
     "execution_count": 15,
     "metadata": {},
     "output_type": "execute_result"
    }
   ],
   "source": [
    "# Perform cross-validation to optimize hyperparameters\n",
    "#cv = StratifiedKFold(n_splits=5, shuffle=True, random_state=0)\n",
    "cv = StratifiedGroupKFold(n_splits=5, shuffle=True, random_state=0)\n",
    "groups = X_up['group']\n",
    "\n",
    "ann_model = MLPClassifier(activation='relu', solver='adam', max_iter=100, early_stopping=True, random_state=0, n_iter_no_change=5)\n",
    "\n",
    "ann_params = {\n",
    "    'hidden_layer_sizes': [(50, 50, 50), (100, 100), (100, 100, 100)],\n",
    "    'learning_rate_init': [0.01, 0.001]}#,'activation':['relu', 'tanh', 'logistic']}\n",
    "\n",
    "scoring = {'Accuracy': 'accuracy', 'AUC': 'roc_auc_ovo', 'F1': 'f1_macro'}  # for balanced data\n",
    "#scoring = {'Accuracy': 'balanced_accuracy', 'AUC': 'roc_auc_ovo_weighted', 'F1': 'f1_weighted'}  # if working with imbalanced data\n",
    "\n",
    "ann_grid = GridSearchCV(estimator=ann_model, cv=cv, param_grid=ann_params, return_train_score=True, scoring=scoring, refit='AUC', verbose=3)\n",
    "ann_grid.fit(X_train_up, y_train_up, groups=groups)\n",
    "#ann_grid.fit(X_train, y_train)\n",
    "#ann_grid.fit(X_train_down, y_train_down)"
   ],
   "metadata": {
    "collapsed": false,
    "pycharm": {
     "name": "#%%\n"
    }
   }
  },
  {
   "cell_type": "markdown",
   "source": [
    "#### Random Forest"
   ],
   "metadata": {
    "collapsed": false,
    "pycharm": {
     "name": "#%% md\n"
    }
   }
  },
  {
   "cell_type": "code",
   "execution_count": 27,
   "outputs": [
    {
     "name": "stdout",
     "output_type": "stream",
     "text": [
      "Fitting 5 folds for each of 1 candidates, totalling 5 fits\n",
      "[CV 1/5] END max_depth=8, n_estimators=300; AUC: (train=0.893, test=0.858) Accuracy: (train=0.574, test=0.540) F1: (train=0.544, test=0.496) total time= 3.7min\n",
      "[CV 2/5] END max_depth=8, n_estimators=300; AUC: (train=0.891, test=0.862) Accuracy: (train=0.559, test=0.530) F1: (train=0.522, test=0.483) total time= 3.4min\n",
      "[CV 3/5] END max_depth=8, n_estimators=300; AUC: (train=0.891, test=0.856) Accuracy: (train=0.576, test=0.549) F1: (train=0.546, test=0.511) total time= 3.3min\n",
      "[CV 4/5] END max_depth=8, n_estimators=300; AUC: (train=0.892, test=0.853) Accuracy: (train=0.586, test=0.548) F1: (train=0.557, test=0.506) total time= 3.3min\n",
      "[CV 5/5] END max_depth=8, n_estimators=300; AUC: (train=0.889, test=0.858) Accuracy: (train=0.577, test=0.551) F1: (train=0.549, test=0.512) total time= 3.5min\n"
     ]
    },
    {
     "data": {
      "text/plain": "GridSearchCV(cv=StratifiedKFold(n_splits=5, random_state=0, shuffle=True),\n             estimator=RandomForestClassifier(oob_score=True, random_state=0),\n             param_grid={'max_depth': [8], 'n_estimators': [300]}, refit='AUC',\n             return_train_score=True,\n             scoring={'AUC': 'roc_auc_ovo', 'Accuracy': 'accuracy',\n                      'F1': 'f1_macro'},\n             verbose=3)"
     },
     "execution_count": 27,
     "metadata": {},
     "output_type": "execute_result"
    }
   ],
   "source": [
    "# Perform cross-validation to optimize hyperparameters\n",
    "cv = StratifiedKFold(n_splits=5, shuffle=True, random_state=0)\n",
    "#cv = StratifiedGroupKFold(n_splits=5, shuffle=True, random_state=0)\n",
    "#groups = X_up['group']\n",
    "\n",
    "rfc_model = RandomForestClassifier(random_state=0, oob_score=True, criterion='gini')\n",
    "\n",
    "rfc_params = {\n",
    "    'n_estimators': [100, 300],\n",
    "    #'max_features': ['sqrt', 'log2', None, 0.5],  # The number of features to consider when looking for the best split\n",
    "    'max_depth' : [4, 8],\n",
    "    #'criterion' : ['gini', 'entropy']\n",
    "}\n",
    "\n",
    "scoring = {'Accuracy': 'accuracy', 'AUC': 'roc_auc_ovo', 'F1': 'f1_macro'}  # for balanced data\n",
    "#scoring = {'Accuracy': 'balanced_accuracy', 'AUC': 'roc_auc_ovo_weighted', 'F1': 'f1_weighted'}  # if working with imbalanced data\n",
    "\n",
    "rfc_grid = GridSearchCV(estimator=rfc_model, param_grid=rfc_params, cv=cv, return_train_score=True, scoring=scoring, refit='AUC', verbose=3)\n",
    "rfc_grid.fit(X_train_up, y_train_up)#, groups=groups)\n",
    "#rfc_grid.fit(X_train, y_train)"
   ],
   "metadata": {
    "collapsed": false,
    "pycharm": {
     "name": "#%%\n"
    }
   }
  },
  {
   "cell_type": "markdown",
   "source": [
    "#### Suppport Vector Classification"
   ],
   "metadata": {
    "collapsed": false
   }
  },
  {
   "cell_type": "code",
   "execution_count": 46,
   "outputs": [
    {
     "name": "stdout",
     "output_type": "stream",
     "text": [
      "Fitting 5 folds for each of 1 candidates, totalling 5 fits\n",
      "[CV 1/5] END gamma=scale; AUC: (train=0.986, test=0.955) Accuracy: (train=0.900, test=0.817) F1: (train=0.898, test=0.813) total time=94.6min\n",
      "[CV 2/5] END gamma=scale; AUC: (train=0.986, test=0.955) Accuracy: (train=0.899, test=0.818) F1: (train=0.897, test=0.814) total time=89.6min\n",
      "[CV 3/5] END gamma=scale; AUC: (train=0.986, test=0.956) Accuracy: (train=0.902, test=0.824) F1: (train=0.901, test=0.820) total time=89.2min\n",
      "[CV 4/5] END gamma=scale; AUC: (train=0.985, test=0.955) Accuracy: (train=0.899, test=0.820) F1: (train=0.898, test=0.816) total time=89.5min\n",
      "[CV 5/5] END gamma=scale; AUC: (train=0.986, test=0.954) Accuracy: (train=0.899, test=0.826) F1: (train=0.898, test=0.824) total time=96.0min\n"
     ]
    },
    {
     "data": {
      "text/plain": "GridSearchCV(cv=StratifiedKFold(n_splits=5, random_state=0, shuffle=True),\n             estimator=SVC(C=1, probability=True, random_state=0),\n             param_grid={'gamma': ['scale']}, refit='AUC',\n             return_train_score=True,\n             scoring={'AUC': 'roc_auc_ovo', 'Accuracy': 'accuracy',\n                      'F1': 'f1_macro'},\n             verbose=3)"
     },
     "execution_count": 46,
     "metadata": {},
     "output_type": "execute_result"
    }
   ],
   "source": [
    "# Perform cross-validation to optimize hyperparameters\n",
    "cv = StratifiedKFold(n_splits=5, shuffle=True, random_state=0)\n",
    "#cv = StratifiedGroupKFold(n_splits=5, shuffle=True, random_state=0)\n",
    "#groups = X_up['group']\n",
    "\n",
    "svc_model = SVC(random_state=0, probability=True, kernel='rbf', C=1)\n",
    "\n",
    "svc_params = {\n",
    "    #'C': [0.1, 1],\n",
    "    'gamma': ['scale', 'auto'],#0.001, 'auto'\n",
    "    #'kernel': ['rbf', 'poly', 'sigmoid']\n",
    "}\n",
    "\n",
    "scoring = {'Accuracy': 'accuracy', 'AUC': 'roc_auc_ovo', 'F1': 'f1_macro'}  # for balanced data\n",
    "#scoring = {'Accuracy': 'balanced_accuracy', 'AUC': 'roc_auc_ovo_weighted', 'F1': 'f1_weighted'}  # if working with imbalanced data\n",
    "\n",
    "svc_grid = GridSearchCV(estimator=svc_model, param_grid=svc_params, cv=cv, return_train_score=True, scoring=scoring, refit='AUC', verbose=3)\n",
    "svc_grid.fit(X_train_up, y_train_up)#, groups=groups)\n",
    "#svc_grid.fit(X_train, y_train)"
   ],
   "metadata": {
    "collapsed": false,
    "pycharm": {
     "name": "#%%\n"
    }
   }
  },
  {
   "cell_type": "markdown",
   "source": [
    "#### Result analysis\n",
    "Results on the training data.\n",
    "###### neural network"
   ],
   "metadata": {
    "collapsed": false
   }
  },
  {
   "cell_type": "code",
   "execution_count": 16,
   "outputs": [
    {
     "name": "stdout",
     "output_type": "stream",
     "text": [
      "   mean_test_Accuracy  std_test_Accuracy  mean_test_AUC  std_test_AUC  \\\n",
      "3            0.397545           0.052285       0.694754      0.023048   \n",
      "\n",
      "   mean_test_F1  std_test_F1  \n",
      "3      0.343309      0.02685  \n",
      "\n",
      "{'hidden_layer_sizes': (100, 100), 'learning_rate_init': 0.001}\n"
     ]
    }
   ],
   "source": [
    "ann_cv_results = pd.DataFrame(ann_grid.cv_results_)\n",
    "#print(ann_cv_results)\n",
    "ann_best_result = ann_cv_results.loc[ann_cv_results['rank_test_AUC'] == 1]\n",
    "print(ann_best_result[[\n",
    "    'mean_test_Accuracy', 'std_test_Accuracy',\n",
    "    'mean_test_AUC', 'std_test_AUC',\n",
    "    'mean_test_F1', 'std_test_F1']])#'mean_train_Accuracy', 'std_train_Accuracy', 'mean_train_AUC', 'std_train_AUC', 'mean_train_F1', 'std_train_F1'\n",
    "print()\n",
    "print(ann_grid.best_params_)"
   ],
   "metadata": {
    "collapsed": false,
    "pycharm": {
     "name": "#%%\n"
    }
   }
  },
  {
   "cell_type": "markdown",
   "source": [
    "###### random forest"
   ],
   "metadata": {
    "collapsed": false
   }
  },
  {
   "cell_type": "code",
   "source": [
    "rfc_cv_results = pd.DataFrame(rfc_grid.cv_results_)\n",
    "#print(rfc_cv_results)\n",
    "rfc_best_result = rfc_cv_results.loc[rfc_cv_results['rank_test_AUC'] == 1]\n",
    "print(rfc_best_result[[\n",
    "    'mean_test_Accuracy', 'std_test_Accuracy',\n",
    "    'mean_test_AUC', 'std_test_AUC',\n",
    "    'mean_test_F1', 'std_test_F1']])#'mean_train_Accuracy', 'std_train_Accuracy', 'mean_train_AUC', 'std_train_AUC', 'mean_train_F1', 'std_train_F1'\n",
    "print()\n",
    "print(rfc_grid.best_params_)"
   ],
   "metadata": {
    "collapsed": false,
    "pycharm": {
     "name": "#%%\n"
    }
   },
   "execution_count": 42,
   "outputs": [
    {
     "name": "stdout",
     "output_type": "stream",
     "text": [
      "   mean_test_Accuracy  std_test_Accuracy  mean_test_AUC  std_test_AUC  \\\n",
      "0            0.543755           0.007935       0.857201      0.003048   \n",
      "\n",
      "   mean_test_F1  std_test_F1  \n",
      "0      0.501462     0.010879  \n",
      "\n",
      "{'max_depth': 8, 'n_estimators': 300}\n"
     ]
    }
   ]
  },
  {
   "cell_type": "markdown",
   "source": [
    "###### support vector"
   ],
   "metadata": {
    "collapsed": false
   }
  },
  {
   "cell_type": "code",
   "source": [
    "svc_cv_results = pd.DataFrame(svc_grid.cv_results_)\n",
    "#print(svc_cv_results)\n",
    "svc_best_result = svc_cv_results.loc[svc_cv_results['rank_test_AUC'] == 1]\n",
    "print(svc_best_result[[\n",
    "    'mean_test_Accuracy', 'std_test_Accuracy',\n",
    "    'mean_test_AUC', 'std_test_AUC',\n",
    "    'mean_test_F1', 'std_test_F1']])#'mean_train_Accuracy', 'std_train_Accuracy', 'mean_train_AUC', 'std_train_AUC', 'mean_train_F1', 'std_train_F1'\n",
    "print()\n",
    "print(svc_grid.best_params_)"
   ],
   "metadata": {
    "collapsed": false,
    "pycharm": {
     "name": "#%%\n"
    }
   },
   "execution_count": 49,
   "outputs": [
    {
     "name": "stdout",
     "output_type": "stream",
     "text": [
      "   mean_test_Accuracy  std_test_Accuracy  mean_test_AUC  std_test_AUC  \\\n",
      "0             0.82093           0.003638       0.954913      0.000524   \n",
      "\n",
      "   mean_test_F1  std_test_F1  \n",
      "0      0.817373     0.004142  \n",
      "\n",
      "{'gamma': 'scale'}\n"
     ]
    }
   ]
  },
  {
   "cell_type": "markdown",
   "source": [
    "#### Save or load trained models\n",
    "Use joblib to save trained models under directory \"trained_models\", or load them from same directory.\n",
    "###### neural network"
   ],
   "metadata": {
    "collapsed": false,
    "pycharm": {
     "name": "#%% md\n"
    }
   }
  },
  {
   "cell_type": "code",
   "execution_count": 59,
   "outputs": [
    {
     "data": {
      "text/plain": "['trained_models/ann_trained_model.sav']"
     },
     "execution_count": 59,
     "metadata": {},
     "output_type": "execute_result"
    }
   ],
   "source": [
    "# save the model to disk\n",
    "ann_filename = 'trained_models/ann_trained_model.sav'\n",
    "joblib.dump(ann_grid, ann_filename)"
   ],
   "metadata": {
    "collapsed": false,
    "pycharm": {
     "name": "#%%\n"
    }
   }
  },
  {
   "cell_type": "code",
   "execution_count": 14,
   "outputs": [],
   "source": [
    "# loading example: load the model from disk\n",
    "ann_filename = 'trained_models/ann_trained_model.sav'\n",
    "ann_grid = joblib.load(ann_filename)\n",
    "#loaded_model = joblib.load(ann_filename)\n",
    "#result = loaded_model.score(X_test, y_test)\n",
    "#print(result)"
   ],
   "metadata": {
    "collapsed": false,
    "pycharm": {
     "name": "#%%\n"
    }
   }
  },
  {
   "cell_type": "markdown",
   "source": [
    "###### random forest"
   ],
   "metadata": {
    "collapsed": false
   }
  },
  {
   "cell_type": "code",
   "execution_count": 43,
   "outputs": [
    {
     "data": {
      "text/plain": "['trained_models/rfc_trained_model.sav']"
     },
     "execution_count": 43,
     "metadata": {},
     "output_type": "execute_result"
    }
   ],
   "source": [
    "# save the model to disk\n",
    "rfc_filename = 'trained_models/rfc_trained_model.sav'\n",
    "joblib.dump(rfc_grid, rfc_filename)"
   ],
   "metadata": {
    "collapsed": false,
    "pycharm": {
     "name": "#%%\n"
    }
   }
  },
  {
   "cell_type": "code",
   "execution_count": 55,
   "outputs": [],
   "source": [
    "# load model\n",
    "rfc_filename = 'trained_models/rfc_trained_model.sav'\n",
    "rfc_grid = joblib.load(rfc_filename)"
   ],
   "metadata": {
    "collapsed": false,
    "pycharm": {
     "name": "#%%\n"
    }
   }
  },
  {
   "cell_type": "markdown",
   "source": [
    "###### support vector"
   ],
   "metadata": {
    "collapsed": false
   }
  },
  {
   "cell_type": "code",
   "execution_count": 48,
   "outputs": [
    {
     "data": {
      "text/plain": "['trained_models/svc_trained_model.sav']"
     },
     "execution_count": 48,
     "metadata": {},
     "output_type": "execute_result"
    }
   ],
   "source": [
    "# save the model to disk\n",
    "svc_filename = 'trained_models/svc_trained_model.sav'\n",
    "joblib.dump(svc_grid, svc_filename)"
   ],
   "metadata": {
    "collapsed": false,
    "pycharm": {
     "name": "#%%\n"
    }
   }
  },
  {
   "cell_type": "code",
   "execution_count": 56,
   "outputs": [],
   "source": [
    "# load model\n",
    "svc_filename = 'trained_models/svc_trained_model.sav'\n",
    "svc_grid = joblib.load(svc_filename)"
   ],
   "metadata": {
    "collapsed": false,
    "pycharm": {
     "name": "#%%\n"
    }
   }
  },
  {
   "cell_type": "markdown",
   "source": [
    "#### Performance estimation\n",
    "Use the best estimator and assess performance on the test set.\n",
    "###### neural network"
   ],
   "metadata": {
    "collapsed": false,
    "pycharm": {
     "name": "#%% md\n"
    }
   }
  },
  {
   "cell_type": "code",
   "execution_count": 17,
   "outputs": [
    {
     "name": "stdout",
     "output_type": "stream",
     "text": [
      "MLPClassifier(early_stopping=True, hidden_layer_sizes=(100, 100), max_iter=100,\n",
      "              n_iter_no_change=5, random_state=0)\n",
      "Accuracy score of best_ann_model: 0.44\n",
      "AUC score: 0.623224998560297\n",
      "              precision    recall  f1-score   support\n",
      "\n",
      "           1       0.29      0.35      0.32        79\n",
      "           2       0.47      0.25      0.33       137\n",
      "           3       0.49      0.61      0.54       212\n",
      "           4       0.00      0.00      0.00         8\n",
      "\n",
      "    accuracy                           0.44       436\n",
      "   macro avg       0.31      0.30      0.30       436\n",
      "weighted avg       0.44      0.44      0.42       436\n",
      "\n"
     ]
    }
   ],
   "source": [
    "# Calculate predictions\n",
    "best_ann_model = ann_grid.best_estimator_\n",
    "print(best_ann_model)\n",
    "\n",
    "ann_y_pred = best_ann_model.predict(X_test)\n",
    "ann_pred_score = best_ann_model.score(X_test, y_test)\n",
    "print('Accuracy score of best_ann_model: {}'.format(round(ann_pred_score, 3)))\n",
    "\n",
    "ann_y_pred_proba = best_ann_model.predict_proba(X_test)\n",
    "ann_auc_score = roc_auc_score(y_test, ann_y_pred_proba, average='weighted', multi_class='ovo')\n",
    "print(f'AUC score: {ann_auc_score}')\n",
    "\n",
    "ann_cl_report = classification_report(y_test, ann_y_pred)\n",
    "print(ann_cl_report)"
   ],
   "metadata": {
    "collapsed": false,
    "pycharm": {
     "name": "#%%\n"
    }
   }
  },
  {
   "cell_type": "markdown",
   "source": [
    "###### random forest"
   ],
   "metadata": {
    "collapsed": false
   }
  },
  {
   "cell_type": "code",
   "source": [
    "# Calculate predictions\n",
    "best_rfc_model = rfc_grid.best_estimator_\n",
    "print(best_rfc_model)\n",
    "\n",
    "rfc_y_pred = best_rfc_model.predict(X_test)\n",
    "rfc_pred_score = best_rfc_model.score(X_test, y_test)\n",
    "print('Accuracy score of best_rfc_model: {}'.format(round(rfc_pred_score, 3)))\n",
    "\n",
    "rfc_y_pred_proba = best_rfc_model.predict_proba(X_test)\n",
    "rfc_auc_score = roc_auc_score(y_test, rfc_y_pred_proba, average='weighted', multi_class='ovo')\n",
    "print(f'AUC score: {round(rfc_auc_score, 3)}')\n",
    "\n",
    "rfc_cl_report = classification_report(y_test, rfc_y_pred)\n",
    "print(rfc_cl_report)"
   ],
   "metadata": {
    "collapsed": false,
    "pycharm": {
     "name": "#%%\n"
    }
   },
   "execution_count": 57,
   "outputs": [
    {
     "name": "stdout",
     "output_type": "stream",
     "text": [
      "RandomForestClassifier(max_depth=8, n_estimators=300, oob_score=True,\n",
      "                       random_state=0)\n",
      "Accuracy score of best_rfc_model: 0.307\n",
      "AUC score: 0.639\n",
      "              precision    recall  f1-score   support\n",
      "\n",
      "           1       0.36      0.16      0.23        79\n",
      "           2       0.37      0.13      0.19       137\n",
      "           3       0.47      0.46      0.47       212\n",
      "           4       0.04      0.75      0.08         8\n",
      "\n",
      "    accuracy                           0.31       436\n",
      "   macro avg       0.31      0.38      0.24       436\n",
      "weighted avg       0.41      0.31      0.33       436\n",
      "\n"
     ]
    }
   ]
  },
  {
   "cell_type": "markdown",
   "source": [
    "###### support vector"
   ],
   "metadata": {
    "collapsed": false
   }
  },
  {
   "cell_type": "code",
   "execution_count": 58,
   "outputs": [
    {
     "name": "stdout",
     "output_type": "stream",
     "text": [
      "SVC(C=1, probability=True, random_state=0)\n",
      "Accuracy score of best_svc_model: 0.431\n",
      "AUC score: 0.65\n",
      "              precision    recall  f1-score   support\n",
      "\n",
      "           1       0.35      0.51      0.41        79\n",
      "           2       0.41      0.34      0.37       137\n",
      "           3       0.51      0.48      0.49       212\n",
      "           4       0.00      0.00      0.00         8\n",
      "\n",
      "    accuracy                           0.43       436\n",
      "   macro avg       0.32      0.33      0.32       436\n",
      "weighted avg       0.44      0.43      0.43       436\n",
      "\n"
     ]
    }
   ],
   "source": [
    "# Calculate predictions\n",
    "best_svc_model = svc_grid.best_estimator_\n",
    "print(best_svc_model)\n",
    "\n",
    "svc_y_pred = best_svc_model.predict(X_test)\n",
    "svc_pred_score = best_svc_model.score(X_test, y_test)\n",
    "print('Accuracy score of best_svc_model: {}'.format(round(svc_pred_score, 3)))\n",
    "\n",
    "svc_y_pred_proba = best_svc_model.predict_proba(X_test)\n",
    "svc_auc_score = roc_auc_score(y_test, svc_y_pred_proba, average='weighted', multi_class='ovo')\n",
    "print(f'AUC score: {round(svc_auc_score, 3)}')\n",
    "\n",
    "svc_cl_report = classification_report(y_test, svc_y_pred)\n",
    "print(svc_cl_report)"
   ],
   "metadata": {
    "collapsed": false,
    "pycharm": {
     "name": "#%%\n"
    }
   }
  },
  {
   "cell_type": "markdown",
   "source": [
    "Calculate and plot confusion matrix. Rows indicate true labels, columns indicate predicted labels.\n",
    "###### neural network"
   ],
   "metadata": {
    "collapsed": false,
    "pycharm": {
     "name": "#%% md\n"
    }
   }
  },
  {
   "cell_type": "code",
   "execution_count": 18,
   "outputs": [
    {
     "name": "stdout",
     "output_type": "stream",
     "text": [
      "[[ 28   5  46   0]\n",
      " [ 15  34  88   0]\n",
      " [ 51  30 130   1]\n",
      " [  1   3   4   0]]\n"
     ]
    },
    {
     "name": "stderr",
     "output_type": "stream",
     "text": [
      "D:\\Software\\Anaconda\\envs\\CATHpre\\lib\\site-packages\\sklearn\\utils\\deprecation.py:87: FutureWarning: Function plot_confusion_matrix is deprecated; Function `plot_confusion_matrix` is deprecated in 1.0 and will be removed in 1.2. Use one of the class methods: ConfusionMatrixDisplay.from_predictions or ConfusionMatrixDisplay.from_estimator.\n",
      "  warnings.warn(msg, category=FutureWarning)\n"
     ]
    },
    {
     "data": {
      "text/plain": "<Figure size 432x288 with 2 Axes>",
      "image/png": "[encoded data removed]"
     },
     "metadata": {
      "needs_background": "light"
     },
     "output_type": "display_data"
    },
    {
     "name": "stderr",
     "output_type": "stream",
     "text": [
      "D:\\Software\\Anaconda\\envs\\CATHpre\\lib\\site-packages\\sklearn\\utils\\deprecation.py:87: FutureWarning: Function plot_confusion_matrix is deprecated; Function `plot_confusion_matrix` is deprecated in 1.0 and will be removed in 1.2. Use one of the class methods: ConfusionMatrixDisplay.from_predictions or ConfusionMatrixDisplay.from_estimator.\n",
      "  warnings.warn(msg, category=FutureWarning)\n"
     ]
    },
    {
     "data": {
      "text/plain": "<Figure size 432x288 with 2 Axes>",
      "image/png": "[encoded data removed]"
     },
     "metadata": {
      "needs_background": "light"
     },
     "output_type": "display_data"
    }
   ],
   "source": [
    "# Calculate confusion matrix (showing tp, fp, tn, fn)\n",
    "ann_cm = confusion_matrix(y_test, ann_y_pred)\n",
    "print(ann_cm)\n",
    "\n",
    "# plot confusion matrix\n",
    "plot_confusion_matrix(best_ann_model, X_test, y_test, cmap=plt.cm.Blues)\n",
    "plt.show()\n",
    "\n",
    "# plot confusion matrix (on train set)\n",
    "plot_confusion_matrix(best_ann_model, X_train_up, y_train_up, cmap=plt.cm.Blues)\n",
    "#plot_confusion_matrix(best_ann_model, X_train, y_train)\n",
    "plt.show()"
   ],
   "metadata": {
    "collapsed": false,
    "pycharm": {
     "name": "#%%\n"
    }
   }
  },
  {
   "cell_type": "markdown",
   "source": [
    "###### random forest"
   ],
   "metadata": {
    "collapsed": false
   }
  },
  {
   "cell_type": "code",
   "execution_count": 21,
   "outputs": [
    {
     "name": "stdout",
     "output_type": "stream",
     "text": [
      "[[13  7 31 28]\n",
      " [ 7 18 77 35]\n",
      " [16 22 97 77]\n",
      " [ 0  2  0  6]]\n"
     ]
    },
    {
     "name": "stderr",
     "output_type": "stream",
     "text": [
      "D:\\Software\\Anaconda\\envs\\CATHpre\\lib\\site-packages\\sklearn\\utils\\deprecation.py:87: FutureWarning: Function plot_confusion_matrix is deprecated; Function `plot_confusion_matrix` is deprecated in 1.0 and will be removed in 1.2. Use one of the class methods: ConfusionMatrixDisplay.from_predictions or ConfusionMatrixDisplay.from_estimator.\n",
      "  warnings.warn(msg, category=FutureWarning)\n"
     ]
    },
    {
     "data": {
      "text/plain": "<Figure size 432x288 with 2 Axes>",
      "image/png": "[encoded data removed]"
     },
     "metadata": {
      "needs_background": "light"
     },
     "output_type": "display_data"
    },
    {
     "name": "stderr",
     "output_type": "stream",
     "text": [
      "D:\\Software\\Anaconda\\envs\\CATHpre\\lib\\site-packages\\sklearn\\utils\\deprecation.py:87: FutureWarning: Function plot_confusion_matrix is deprecated; Function `plot_confusion_matrix` is deprecated in 1.0 and will be removed in 1.2. Use one of the class methods: ConfusionMatrixDisplay.from_predictions or ConfusionMatrixDisplay.from_estimator.\n",
      "  warnings.warn(msg, category=FutureWarning)\n"
     ]
    },
    {
     "data": {
      "text/plain": "<Figure size 432x288 with 2 Axes>",
      "image/png": "[encoded data removed]"
     },
     "metadata": {
      "needs_background": "light"
     },
     "output_type": "display_data"
    }
   ],
   "source": [
    "# Calculate confusion matrix (showing tp, fp, tn, fn)\n",
    "rfc_cm = confusion_matrix(y_test, rfc_y_pred)\n",
    "print(rfc_cm)\n",
    "\n",
    "# plot confusion matrix\n",
    "plot_confusion_matrix(best_rfc_model, X_test, y_test, cmap=plt.cm.Blues)\n",
    "plt.show()\n",
    "\n",
    "# plot confusion matrix (on train set)\n",
    "plot_confusion_matrix(best_rfc_model, X_train_up, y_train_up, cmap=plt.cm.Blues)\n",
    "plt.show()"
   ],
   "metadata": {
    "collapsed": false,
    "pycharm": {
     "name": "#%%\n"
    }
   }
  },
  {
   "cell_type": "markdown",
   "source": [
    "###### support vector"
   ],
   "metadata": {
    "collapsed": false
   }
  },
  {
   "cell_type": "code",
   "execution_count": 22,
   "outputs": [
    {
     "name": "stdout",
     "output_type": "stream",
     "text": [
      "[[ 40   9  30   0]\n",
      " [ 17  47  68   5]\n",
      " [ 57  52 101   2]\n",
      " [  1   7   0   0]]\n"
     ]
    },
    {
     "name": "stderr",
     "output_type": "stream",
     "text": [
      "D:\\Software\\Anaconda\\envs\\CATHpre\\lib\\site-packages\\sklearn\\utils\\deprecation.py:87: FutureWarning: Function plot_confusion_matrix is deprecated; Function `plot_confusion_matrix` is deprecated in 1.0 and will be removed in 1.2. Use one of the class methods: ConfusionMatrixDisplay.from_predictions or ConfusionMatrixDisplay.from_estimator.\n",
      "  warnings.warn(msg, category=FutureWarning)\n"
     ]
    },
    {
     "data": {
      "text/plain": "<Figure size 432x288 with 2 Axes>",
      "image/png": "[encoded data removed]"
     },
     "metadata": {
      "needs_background": "light"
     },
     "output_type": "display_data"
    },
    {
     "name": "stderr",
     "output_type": "stream",
     "text": [
      "D:\\Software\\Anaconda\\envs\\CATHpre\\lib\\site-packages\\sklearn\\utils\\deprecation.py:87: FutureWarning: Function plot_confusion_matrix is deprecated; Function `plot_confusion_matrix` is deprecated in 1.0 and will be removed in 1.2. Use one of the class methods: ConfusionMatrixDisplay.from_predictions or ConfusionMatrixDisplay.from_estimator.\n",
      "  warnings.warn(msg, category=FutureWarning)\n"
     ]
    },
    {
     "data": {
      "text/plain": "<Figure size 432x288 with 2 Axes>",
      "image/png": "[encoded data removed]"
     },
     "metadata": {
      "needs_background": "light"
     },
     "output_type": "display_data"
    }
   ],
   "source": [
    "# Calculate confusion matrix (showing tp, fp, tn, fn)\n",
    "svc_cm = confusion_matrix(y_test, svc_y_pred)\n",
    "print(svc_cm)\n",
    "\n",
    "# plot confusion matrix\n",
    "plot_confusion_matrix(best_svc_model, X_test, y_test, cmap=plt.cm.Blues)\n",
    "plt.show()\n",
    "\n",
    "# plot confusion matrix (on train set)\n",
    "plot_confusion_matrix(best_svc_model, X_train_up, y_train_up, cmap=plt.cm.Blues)\n",
    "plt.show()"
   ],
   "metadata": {
    "collapsed": false,
    "pycharm": {
     "name": "#%%\n"
    }
   }
  },
  {
   "cell_type": "markdown",
   "source": [
    "Confidence intervals of all models (baseline, neural network, random forest, SVM) on cross-validation set and test set.\n",
    "###### define appropriate functions"
   ],
   "metadata": {
    "collapsed": false
   }
  },
  {
   "cell_type": "code",
   "execution_count": 89,
   "outputs": [],
   "source": [
    "def bootstrapping_scores(y_orig, y_pred, y_pred_proba):\n",
    "    df = pd.DataFrame({'y_orig': y_orig.to_numpy(), 'y_pred': y_pred})#, 'y_pred_proba': y_pred_proba})\n",
    "    df['y_pred_proba'] = [a for a in y_pred_proba]\n",
    "\n",
    "    n_iterations = 1000\n",
    "    n_size = int(len(y_orig)/2)\n",
    "    accuracies = list()\n",
    "    aucs = list()\n",
    "    f1s = list()\n",
    "    for i in range(n_iterations):\n",
    "        df_new = resample(df, replace=True, n_samples=n_size, random_state=0)\n",
    "        y_orig_new = df_new['y_orig']\n",
    "        y_pred_new = df_new['y_pred']\n",
    "        y_pred_proba_new = df_new['y_pred_proba'].to_list()\n",
    "\n",
    "        accuracies.append(accuracy_score(y_orig_new, y_pred_new))\n",
    "        aucs.append(roc_auc_score(y_orig_new, y_pred_proba_new, average='weighted', multi_class='ovo'))\n",
    "        f1s.append(f1_score(y_orig_new, y_pred_new, average='macro'))\n",
    "\n",
    "    scores_df = pd.DataFrame(list(zip(accuracies, aucs, f1s)), columns=['Accuracy', 'AUC', 'F1'])\n",
    "    return scores_df\n",
    "\n",
    "\n",
    "def calc_confidence_interval(series, confidence_level=0.95):\n",
    "    #degrees_freedom = series.size - 1\n",
    "    mean = np.mean(series)\n",
    "    #std_error = sem(series)\n",
    "    #h = std_error * t.ppf((1 + confidence_level) / 2, degrees_freedom)\n",
    "    h = np.std(series)/math.sqrt(len(series)) * t.ppf((1 + confidence_level) / 2, len(series))\n",
    "    print(f'Confidence interval: {mean} +/- {h}')\n",
    "\n",
    "\n",
    "def apply_on_model(model, X_orig, y_orig, model_name):\n",
    "    y_pred = model.predict(X_orig)\n",
    "    y_pred_proba = model.predict_proba(X_orig)\n",
    "\n",
    "    scores_df = bootstrapping_scores(y_orig, y_pred, y_pred_proba)\n",
    "\n",
    "    print('------------------Accuracy--------------------')\n",
    "    calc_confidence_interval(scores_df['Accuracy'], confidence_level=0.95)\n",
    "    print('--------------------AUC--------------------')\n",
    "    calc_confidence_interval(scores_df['AUC'], confidence_level=0.95)\n",
    "    print('--------------------F1--------------------')\n",
    "    calc_confidence_interval(scores_df['F1'], confidence_level=0.95)\n",
    "\n",
    "    scores_df['model'] = model_name\n",
    "\n",
    "    accu = pd.DataFrame(scores_df[['model', 'Accuracy']])\n",
    "    accu.rename(columns={\"Accuracy\": \"value\"}, inplace=True)\n",
    "    accu['score'] = 'Accuracy'\n",
    "\n",
    "    auc = pd.DataFrame(scores_df[['model', 'AUC']])\n",
    "    auc.rename(columns={\"AUC\": \"value\"}, inplace=True)\n",
    "    auc['score'] = 'AUC'\n",
    "\n",
    "    f1 = pd.DataFrame(scores_df[['model', 'F1']])\n",
    "    f1.rename(columns={\"F1\": \"value\"}, inplace=True)\n",
    "    f1['score'] = 'F1'\n",
    "\n",
    "    df_modified = pd.concat([accu, auc, f1], ignore_index=True, axis=0)\n",
    "\n",
    "    return df_modified\n",
    "\n",
    "\n",
    "def plot_scores_with_ci(df):\n",
    "    sns.set_theme(style='whitegrid')\n",
    "    sns.barplot(x='score', y='value', hue='model', data=df, ci=0.95)\n",
    "    plt.show()"
   ],
   "metadata": {
    "collapsed": false,
    "pycharm": {
     "name": "#%%\n"
    }
   }
  },
  {
   "cell_type": "markdown",
   "source": [
    "###### random baseline model"
   ],
   "metadata": {
    "collapsed": false
   }
  },
  {
   "cell_type": "code",
   "execution_count": 90,
   "outputs": [
    {
     "name": "stdout",
     "output_type": "stream",
     "text": [
      "CV:\n",
      "------------------Accuracy--------------------\n",
      "Confidence interval: 0.23734729493892195 +/- 2.4629768454939476e-16\n",
      "--------------------AUC--------------------\n",
      "Confidence interval: 0.5 +/- 0.0\n",
      "--------------------F1--------------------\n",
      "Confidence interval: 0.23730811788530703 +/- 1.4984544444613528e-16\n",
      "\n",
      "Test:\n",
      "------------------Accuracy--------------------\n",
      "Confidence interval: 0.25 +/- 0.0\n",
      "--------------------AUC--------------------\n",
      "Confidence interval: 0.5 +/- 0.0\n",
      "--------------------F1--------------------\n",
      "Confidence interval: 0.21398095692740085 +/- 1.0161932439450552e-16\n"
     ]
    }
   ],
   "source": [
    "# Cross validation set\n",
    "print('CV:')\n",
    "random_cv_df = apply_on_model(baseline_random, X_train_up, y_train_up, 'Random')\n",
    "# Test set\n",
    "print('\\nTest:')\n",
    "random_test_df = apply_on_model(baseline_random, X_test, y_test, 'Random')"
   ],
   "metadata": {
    "collapsed": false,
    "pycharm": {
     "name": "#%%\n"
    }
   }
  },
  {
   "cell_type": "markdown",
   "source": [
    "###### neural network"
   ],
   "metadata": {
    "collapsed": false
   }
  },
  {
   "cell_type": "code",
   "execution_count": 91,
   "outputs": [
    {
     "name": "stdout",
     "output_type": "stream",
     "text": [
      "CV:\n",
      "------------------Accuracy--------------------\n",
      "Confidence interval: 0.9849164796808951 +/- 1.0885324240224997e-15\n",
      "--------------------AUC--------------------\n",
      "Confidence interval: 0.9967938858061471 +/- 6.751656807228164e-16\n",
      "--------------------F1--------------------\n",
      "Confidence interval: 0.9848165106777672 +/- 1.0954218697441612e-15\n",
      "\n",
      "Test:\n",
      "------------------Accuracy--------------------\n",
      "Confidence interval: 0.4403669724770669 +/- 1.653466973198734e-16\n",
      "--------------------AUC--------------------\n",
      "Confidence interval: 0.607301625391538 +/- 5.167084291246044e-16\n",
      "--------------------F1--------------------\n",
      "Confidence interval: 0.289292687087728 +/- 2.1012809451067244e-16\n"
     ]
    }
   ],
   "source": [
    "# Cross validation set\n",
    "print('CV:')\n",
    "ann_cv_df = apply_on_model(best_ann_model, X_train_up, y_train_up, 'Neural Network')\n",
    "# Test set\n",
    "print('\\nTest:')\n",
    "ann_test_df = apply_on_model(best_ann_model, X_test, y_test, 'Neural Network')"
   ],
   "metadata": {
    "collapsed": false,
    "pycharm": {
     "name": "#%%\n"
    }
   }
  },
  {
   "cell_type": "markdown",
   "source": [
    "###### random forest"
   ],
   "metadata": {
    "collapsed": false
   }
  },
  {
   "cell_type": "code",
   "execution_count": 86,
   "outputs": [
    {
     "name": "stdout",
     "output_type": "stream",
     "text": [
      "CV:\n",
      "------------------Accuracy--------------------\n",
      "Confidence interval: 0.5792819745699302 +/- 6.892901391262398e-18\n",
      "--------------------AUC--------------------\n",
      "Confidence interval: 0.8917088928643885 +/- 0.0\n",
      "--------------------F1--------------------\n",
      "Confidence interval: 0.5504914168814535 +/- 6.892901391262398e-18\n",
      "\n",
      "Test:\n",
      "------------------Accuracy--------------------\n",
      "Confidence interval: 0.2385321100917409 +/- 5.169676043446799e-18\n",
      "--------------------AUC--------------------\n",
      "Confidence interval: 0.5840174029164781 +/- 0.0\n",
      "--------------------F1--------------------\n",
      "Confidence interval: 0.19227282380640764 +/- 1.7232253478155995e-18\n"
     ]
    }
   ],
   "source": [
    "# Cross validation set\n",
    "print('CV:')\n",
    "rfc_cv_df = apply_on_model(best_rfc_model, X_train_up, y_train_up, 'Random Forest')\n",
    "# Test set\n",
    "print('\\nTest:')\n",
    "rfc_test_df = apply_on_model(best_rfc_model, X_test, y_test, 'Random Forest')"
   ],
   "metadata": {
    "collapsed": false,
    "pycharm": {
     "name": "#%%\n"
    }
   }
  },
  {
   "cell_type": "markdown",
   "source": [
    "###### support vector machine"
   ],
   "metadata": {
    "collapsed": false
   }
  },
  {
   "cell_type": "code",
   "execution_count": 92,
   "outputs": [
    {
     "name": "stdout",
     "output_type": "stream",
     "text": [
      "CV:\n",
      "------------------Accuracy--------------------\n",
      "Confidence interval: 0.9088755921216854 +/- 1.2401002298990504e-15\n",
      "--------------------AUC--------------------\n",
      "Confidence interval: 0.9882708794536956 +/- 6.131606692278638e-16\n",
      "--------------------F1--------------------\n",
      "Confidence interval: 0.906792049860686 +/- 1.1712057726824366e-15\n",
      "\n",
      "Test:\n",
      "------------------Accuracy--------------------\n",
      "Confidence interval: 0.4197247706421933 +/- 5.270425977070965e-16\n",
      "--------------------AUC--------------------\n",
      "Confidence interval: 0.6302601474763357 +/- 8.956279438159809e-17\n",
      "--------------------F1--------------------\n",
      "Confidence interval: 0.31013826014193413 +/- 1.3778891443322783e-16\n"
     ]
    }
   ],
   "source": [
    "# Cross validation set\n",
    "print('CV:')\n",
    "svc_cv_df = apply_on_model(best_svc_model, X_train_up, y_train_up, 'SVM')\n",
    "# Test set\n",
    "print('\\nTest:')\n",
    "svc_test_df = apply_on_model(best_svc_model, X_test, y_test, 'SVM')"
   ],
   "metadata": {
    "collapsed": false,
    "pycharm": {
     "name": "#%%\n"
    }
   }
  },
  {
   "cell_type": "markdown",
   "source": [
    "Plot all performance with confidence interval."
   ],
   "metadata": {
    "collapsed": false,
    "pycharm": {
     "name": "#%% md\n"
    }
   }
  },
  {
   "cell_type": "code",
   "execution_count": 93,
   "outputs": [
    {
     "name": "stdout",
     "output_type": "stream",
     "text": [
      "        model     value     score\n",
      "0      Random  0.237347  Accuracy\n",
      "1      Random  0.237347  Accuracy\n",
      "2      Random  0.237347  Accuracy\n",
      "3      Random  0.237347  Accuracy\n",
      "4      Random  0.237347  Accuracy\n",
      "...       ...       ...       ...\n",
      "11995     SVM  0.906792        F1\n",
      "11996     SVM  0.906792        F1\n",
      "11997     SVM  0.906792        F1\n",
      "11998     SVM  0.906792        F1\n",
      "11999     SVM  0.906792        F1\n",
      "\n",
      "[12000 rows x 3 columns]\n"
     ]
    },
    {
     "data": {
      "text/plain": "<Figure size 432x288 with 1 Axes>",
      "image/png": "[encoded data removed]"
     },
     "metadata": {},
     "output_type": "display_data"
    },
    {
     "data": {
      "text/plain": "<Figure size 432x288 with 1 Axes>",
      "image/png": "[encoded data removed]"
     },
     "metadata": {},
     "output_type": "display_data"
    }
   ],
   "source": [
    "# cross validation set\n",
    "performance_cv_df = pd.concat([random_cv_df, ann_cv_df, rfc_cv_df, svc_cv_df], ignore_index=True, axis=0)\n",
    "print(performance_cv_df)\n",
    "plot_scores_with_ci(performance_cv_df)\n",
    "\n",
    "# test set\n",
    "performance_test_df = pd.concat([random_test_df, ann_test_df, rfc_test_df, svc_test_df], ignore_index=True, axis=0)\n",
    "plot_scores_with_ci(performance_test_df)"
   ],
   "metadata": {
    "collapsed": false,
    "pycharm": {
     "name": "#%%\n"
    }
   }
  },
  {
   "cell_type": "markdown",
   "source": [
    "Paired Student t-test for Neural Network and Support Vector Machine."
   ],
   "metadata": {
    "collapsed": false
   }
  },
  {
   "cell_type": "code",
   "execution_count": 99,
   "outputs": [
    {
     "name": "stdout",
     "output_type": "stream",
     "text": [
      "0      0.440367\n",
      "1      0.440367\n",
      "2      0.440367\n",
      "3      0.440367\n",
      "4      0.440367\n",
      "         ...   \n",
      "995    0.440367\n",
      "996    0.440367\n",
      "997    0.440367\n",
      "998    0.440367\n",
      "999    0.440367\n",
      "Name: value, Length: 1000, dtype: float64\n",
      "0      0.419725\n",
      "1      0.419725\n",
      "2      0.419725\n",
      "3      0.419725\n",
      "4      0.419725\n",
      "         ...   \n",
      "995    0.419725\n",
      "996    0.419725\n",
      "997    0.419725\n",
      "998    0.419725\n",
      "999    0.419725\n",
      "Name: value, Length: 1000, dtype: float64\n",
      "p-value for two-sided t-test: 0.000\n"
     ]
    }
   ],
   "source": [
    "method_ann = ann_test_df[ann_test_df['score'] == 'AUC']\n",
    "method_ann = method_ann['value']\n",
    "\n",
    "method_svc = svc_test_df[svc_test_df['score'] == 'AUC']\n",
    "method_svc = method_svc['value']\n",
    "\n",
    "print(method_ann)\n",
    "print(method_svc)\n",
    "\n",
    "ttest_twosided = ttest_rel(method_ann, method_svc)\n",
    "print('p-value for two-sided t-test: {:.3f}'.format(ttest_twosided.pvalue))\n",
    "# if p-value < 0.05, ANN is significantly better than SVM"
   ],
   "metadata": {
    "collapsed": false,
    "pycharm": {
     "name": "#%%\n"
    }
   }
  }
 ],
 "metadata": {
  "kernelspec": {
   "name": "pycharm-d076acda",
   "language": "python",
   "display_name": "PyCharm (PBL)"
  },
  "language_info": {
   "codemirror_mode": {
    "name": "ipython",
    "version": 2
   },
   "file_extension": ".py",
   "mimetype": "text/x-python",
   "name": "python",
   "nbconvert_exporter": "python",
   "pygments_lexer": "ipython2",
   "version": "2.7.6"
  }
 },
 "nbformat": 4,
 "nbformat_minor": 0
}